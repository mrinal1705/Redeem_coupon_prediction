{
 "cells": [
  {
   "cell_type": "code",
   "execution_count": 346,
   "id": "318d1e4f",
   "metadata": {},
   "outputs": [],
   "source": [
    "#importing packages\n",
    "import pandas as pd\n",
    "import numpy as np\n",
    "from sklearn.model_selection import train_test_split\n",
    "#train test split\n",
    "from sklearn.model_selection import train_test_split\n",
    "import re\n",
    "from sklearn.preprocessing import LabelEncoder\n",
    "from scipy.stats import mode\n",
    "\n",
    "from sklearn.model_selection import GridSearchCV,RandomizedSearchCV,KFold\n",
    "from sklearn.metrics import classification_report,roc_auc_score,roc_curve\n",
    "from sklearn.model_selection import train_test_split, KFold\n",
    "from sklearn.preprocessing import StandardScaler\n",
    "from sklearn.linear_model import LogisticRegression\n",
    "from sklearn.neighbors import KNeighborsClassifier\n",
    "from sklearn.naive_bayes import GaussianNB\n",
    "from sklearn.tree import DecisionTreeClassifier\n",
    "from sklearn.ensemble import RandomForestClassifier,BaggingClassifier\n",
    "from sklearn.metrics import auc\n",
    "from sklearn.metrics import confusion_matrix \n",
    "from sklearn.metrics import accuracy_score \n",
    "from sklearn.metrics import classification_report \n",
    "\n",
    "\n",
    "#Visualization\n",
    "import matplotlib.pyplot as plt\n",
    "%matplotlib inline\n",
    "import seaborn as sns\n",
    "sns.set_style('darkgrid')\n",
    "\n",
    "import os\n",
    "%matplotlib inline\n",
    "\n",
    "import warnings\n",
    "warnings.filterwarnings('ignore')\n",
    "\n",
    "pd.set_option('display.max_colwidth',500)\n",
    "pd.set_option('display.max_columns',5000)\n",
    "from IPython.display import Image\n",
    "from sklearn.metrics import confusion_matrix \n",
    "from sklearn.metrics import accuracy_score \n",
    "from sklearn.metrics import classification_report \n",
    "encoder = LabelEncoder()"
   ]
  },
  {
   "cell_type": "code",
   "execution_count": 347,
   "id": "716ee17c",
   "metadata": {},
   "outputs": [],
   "source": [
    "train = pd.read_csv(\"C:/Users/mrinal.ghoshal/Desktop/Assingment/data/train_data.csv\")"
   ]
  },
  {
   "cell_type": "code",
   "execution_count": 348,
   "id": "71ed81b1",
   "metadata": {},
   "outputs": [
    {
     "data": {
      "text/html": [
       "<div>\n",
       "<style scoped>\n",
       "    .dataframe tbody tr th:only-of-type {\n",
       "        vertical-align: middle;\n",
       "    }\n",
       "\n",
       "    .dataframe tbody tr th {\n",
       "        vertical-align: top;\n",
       "    }\n",
       "\n",
       "    .dataframe thead th {\n",
       "        text-align: right;\n",
       "    }\n",
       "</style>\n",
       "<table border=\"1\" class=\"dataframe\">\n",
       "  <thead>\n",
       "    <tr style=\"text-align: right;\">\n",
       "      <th></th>\n",
       "      <th>id</th>\n",
       "      <th>campaign_id</th>\n",
       "      <th>coupon_id</th>\n",
       "      <th>customer_id</th>\n",
       "      <th>redemption_status</th>\n",
       "    </tr>\n",
       "  </thead>\n",
       "  <tbody>\n",
       "    <tr>\n",
       "      <th>0</th>\n",
       "      <td>117578</td>\n",
       "      <td>8</td>\n",
       "      <td>725</td>\n",
       "      <td>45</td>\n",
       "      <td>0</td>\n",
       "    </tr>\n",
       "    <tr>\n",
       "      <th>1</th>\n",
       "      <td>123337</td>\n",
       "      <td>29</td>\n",
       "      <td>265</td>\n",
       "      <td>334</td>\n",
       "      <td>0</td>\n",
       "    </tr>\n",
       "    <tr>\n",
       "      <th>2</th>\n",
       "      <td>46642</td>\n",
       "      <td>13</td>\n",
       "      <td>281</td>\n",
       "      <td>408</td>\n",
       "      <td>0</td>\n",
       "    </tr>\n",
       "    <tr>\n",
       "      <th>3</th>\n",
       "      <td>10510</td>\n",
       "      <td>13</td>\n",
       "      <td>625</td>\n",
       "      <td>577</td>\n",
       "      <td>0</td>\n",
       "    </tr>\n",
       "    <tr>\n",
       "      <th>4</th>\n",
       "      <td>14347</td>\n",
       "      <td>13</td>\n",
       "      <td>480</td>\n",
       "      <td>414</td>\n",
       "      <td>0</td>\n",
       "    </tr>\n",
       "  </tbody>\n",
       "</table>\n",
       "</div>"
      ],
      "text/plain": [
       "       id  campaign_id  coupon_id  customer_id  redemption_status\n",
       "0  117578            8        725           45                  0\n",
       "1  123337           29        265          334                  0\n",
       "2   46642           13        281          408                  0\n",
       "3   10510           13        625          577                  0\n",
       "4   14347           13        480          414                  0"
      ]
     },
     "execution_count": 348,
     "metadata": {},
     "output_type": "execute_result"
    }
   ],
   "source": [
    "train.head()"
   ]
  },
  {
   "cell_type": "code",
   "execution_count": 349,
   "id": "9c248ee8",
   "metadata": {},
   "outputs": [],
   "source": [
    "test = pd.read_csv('C:/Users/mrinal.ghoshal/Desktop/Assingment/data/test_data.csv')\n",
    "campaign = pd.read_csv('C:/Users/mrinal.ghoshal/Desktop/Assingment/data/campaign_data.csv')\n",
    "coupons = pd.read_csv('C:/Users/mrinal.ghoshal/Desktop/Assingment/data/coupon_item_mapping.csv')\n",
    "cust_demo = pd.read_csv('C:/Users/mrinal.ghoshal/Desktop/Assingment/data/customer_demographics.csv')\n",
    "cust_tran = pd.read_csv('C:/Users/mrinal.ghoshal/Desktop/Assingment/data/customer_transaction_data.csv')\n",
    "items = pd.read_csv('C:/Users/mrinal.ghoshal/Desktop/Assingment/data/item_data.csv')"
   ]
  },
  {
   "cell_type": "code",
   "execution_count": 350,
   "id": "e434999b",
   "metadata": {},
   "outputs": [
    {
     "name": "stdout",
     "output_type": "stream",
     "text": [
      "<class 'pandas.core.frame.DataFrame'>\n",
      "RangeIndex: 54858 entries, 0 to 54857\n",
      "Data columns (total 5 columns):\n",
      " #   Column             Non-Null Count  Dtype\n",
      "---  ------             --------------  -----\n",
      " 0   id                 54858 non-null  int64\n",
      " 1   campaign_id        54858 non-null  int64\n",
      " 2   coupon_id          54858 non-null  int64\n",
      " 3   customer_id        54858 non-null  int64\n",
      " 4   redemption_status  54858 non-null  int64\n",
      "dtypes: int64(5)\n",
      "memory usage: 2.1 MB\n"
     ]
    }
   ],
   "source": [
    "train.info()"
   ]
  },
  {
   "cell_type": "code",
   "execution_count": 351,
   "id": "cc77b0cc",
   "metadata": {},
   "outputs": [
    {
     "data": {
      "text/plain": [
       "18"
      ]
     },
     "execution_count": 351,
     "metadata": {},
     "output_type": "execute_result"
    }
   ],
   "source": [
    "len(train.campaign_id.unique())"
   ]
  },
  {
   "cell_type": "code",
   "execution_count": 352,
   "id": "4f109737",
   "metadata": {},
   "outputs": [
    {
     "data": {
      "text/plain": [
       "dtype('int64')"
      ]
     },
     "execution_count": 352,
     "metadata": {},
     "output_type": "execute_result"
    }
   ],
   "source": [
    "train.campaign_id.dtypes"
   ]
  },
  {
   "cell_type": "code",
   "execution_count": 353,
   "id": "ddf13bfe",
   "metadata": {},
   "outputs": [
    {
     "data": {
      "text/plain": [
       "0    54340\n",
       "1      518\n",
       "Name: redemption_status, dtype: int64"
      ]
     },
     "execution_count": 353,
     "metadata": {},
     "output_type": "execute_result"
    }
   ],
   "source": [
    "train.redemption_status.value_counts()"
   ]
  },
  {
   "cell_type": "code",
   "execution_count": 354,
   "id": "102f018f",
   "metadata": {},
   "outputs": [
    {
     "data": {
      "text/plain": [
       "0.9442560793320938"
      ]
     },
     "execution_count": 354,
     "metadata": {},
     "output_type": "execute_result"
    }
   ],
   "source": [
    "518/(54340+518)*100"
   ]
  },
  {
   "cell_type": "markdown",
   "id": "48552e12",
   "metadata": {},
   "source": [
    "only 0.94% of the coupons were redemed"
   ]
  },
  {
   "cell_type": "code",
   "execution_count": 355,
   "id": "68564994",
   "metadata": {},
   "outputs": [
    {
     "name": "stdout",
     "output_type": "stream",
     "text": [
      "Campaign Dataframe\n",
      "campaign_id      0\n",
      "campaign_type    0\n",
      "start_date       0\n",
      "end_date         0\n",
      "dtype: int64\n",
      "======================\n",
      "Items Dataframe\n",
      "item_id       0\n",
      "brand         0\n",
      "brand_type    0\n",
      "category      0\n",
      "dtype: int64\n",
      "======================\n",
      "Coupons Dataframe\n",
      "coupon_id    0\n",
      "item_id      0\n",
      "dtype: int64\n",
      "======================\n",
      "Customer Demographics Dataframe\n",
      "customer_id         0\n",
      "age_range           0\n",
      "marital_status    329\n",
      "rented              0\n",
      "family_size         0\n",
      "no_of_children    538\n",
      "income_bracket      0\n",
      "dtype: int64\n",
      "======================\n",
      "Customer Transaction Dataframe\n",
      "date               0\n",
      "customer_id        0\n",
      "item_id            0\n",
      "quantity           0\n",
      "selling_price      0\n",
      "other_discount     0\n",
      "coupon_discount    0\n",
      "dtype: int64\n",
      "======================\n"
     ]
    }
   ],
   "source": [
    "print('Campaign Dataframe')\n",
    "print(campaign.isnull().sum())\n",
    "print('======================')\n",
    "print('Items Dataframe')\n",
    "print(items.isnull().sum())\n",
    "print('======================')\n",
    "print('Coupons Dataframe')\n",
    "print(coupons.isnull().sum())\n",
    "print('======================')\n",
    "print('Customer Demographics Dataframe')\n",
    "print(cust_demo.isnull().sum())\n",
    "print('======================')\n",
    "print('Customer Transaction Dataframe')\n",
    "print(cust_tran.isnull().sum())\n",
    "print('======================')"
   ]
  },
  {
   "cell_type": "code",
   "execution_count": 356,
   "id": "8c359973",
   "metadata": {},
   "outputs": [
    {
     "data": {
      "text/html": [
       "<div>\n",
       "<style scoped>\n",
       "    .dataframe tbody tr th:only-of-type {\n",
       "        vertical-align: middle;\n",
       "    }\n",
       "\n",
       "    .dataframe tbody tr th {\n",
       "        vertical-align: top;\n",
       "    }\n",
       "\n",
       "    .dataframe thead th {\n",
       "        text-align: right;\n",
       "    }\n",
       "</style>\n",
       "<table border=\"1\" class=\"dataframe\">\n",
       "  <thead>\n",
       "    <tr style=\"text-align: right;\">\n",
       "      <th></th>\n",
       "      <th>customer_id</th>\n",
       "      <th>age_range</th>\n",
       "      <th>marital_status</th>\n",
       "      <th>rented</th>\n",
       "      <th>family_size</th>\n",
       "      <th>no_of_children</th>\n",
       "      <th>income_bracket</th>\n",
       "    </tr>\n",
       "  </thead>\n",
       "  <tbody>\n",
       "    <tr>\n",
       "      <th>0</th>\n",
       "      <td>1</td>\n",
       "      <td>70+</td>\n",
       "      <td>Married</td>\n",
       "      <td>0</td>\n",
       "      <td>2</td>\n",
       "      <td>NaN</td>\n",
       "      <td>4</td>\n",
       "    </tr>\n",
       "    <tr>\n",
       "      <th>1</th>\n",
       "      <td>6</td>\n",
       "      <td>46-55</td>\n",
       "      <td>Married</td>\n",
       "      <td>0</td>\n",
       "      <td>2</td>\n",
       "      <td>NaN</td>\n",
       "      <td>5</td>\n",
       "    </tr>\n",
       "    <tr>\n",
       "      <th>2</th>\n",
       "      <td>7</td>\n",
       "      <td>26-35</td>\n",
       "      <td>NaN</td>\n",
       "      <td>0</td>\n",
       "      <td>3</td>\n",
       "      <td>1</td>\n",
       "      <td>3</td>\n",
       "    </tr>\n",
       "    <tr>\n",
       "      <th>3</th>\n",
       "      <td>8</td>\n",
       "      <td>26-35</td>\n",
       "      <td>NaN</td>\n",
       "      <td>0</td>\n",
       "      <td>4</td>\n",
       "      <td>2</td>\n",
       "      <td>6</td>\n",
       "    </tr>\n",
       "    <tr>\n",
       "      <th>4</th>\n",
       "      <td>10</td>\n",
       "      <td>46-55</td>\n",
       "      <td>Single</td>\n",
       "      <td>0</td>\n",
       "      <td>1</td>\n",
       "      <td>NaN</td>\n",
       "      <td>5</td>\n",
       "    </tr>\n",
       "  </tbody>\n",
       "</table>\n",
       "</div>"
      ],
      "text/plain": [
       "   customer_id age_range marital_status  rented family_size no_of_children  \\\n",
       "0            1       70+        Married       0           2            NaN   \n",
       "1            6     46-55        Married       0           2            NaN   \n",
       "2            7     26-35            NaN       0           3              1   \n",
       "3            8     26-35            NaN       0           4              2   \n",
       "4           10     46-55         Single       0           1            NaN   \n",
       "\n",
       "   income_bracket  \n",
       "0               4  \n",
       "1               5  \n",
       "2               3  \n",
       "3               6  \n",
       "4               5  "
      ]
     },
     "execution_count": 356,
     "metadata": {},
     "output_type": "execute_result"
    }
   ],
   "source": [
    "cust_demo.head()"
   ]
  },
  {
   "cell_type": "code",
   "execution_count": 357,
   "id": "acb1e8e9",
   "metadata": {},
   "outputs": [
    {
     "name": "stdout",
     "output_type": "stream",
     "text": [
      "<class 'pandas.core.frame.DataFrame'>\n",
      "RangeIndex: 760 entries, 0 to 759\n",
      "Data columns (total 7 columns):\n",
      " #   Column          Non-Null Count  Dtype \n",
      "---  ------          --------------  ----- \n",
      " 0   customer_id     760 non-null    int64 \n",
      " 1   age_range       760 non-null    object\n",
      " 2   marital_status  431 non-null    object\n",
      " 3   rented          760 non-null    int64 \n",
      " 4   family_size     760 non-null    object\n",
      " 5   no_of_children  222 non-null    object\n",
      " 6   income_bracket  760 non-null    int64 \n",
      "dtypes: int64(3), object(4)\n",
      "memory usage: 41.7+ KB\n"
     ]
    }
   ],
   "source": [
    "cust_demo.info()"
   ]
  },
  {
   "cell_type": "code",
   "execution_count": 358,
   "id": "ac8f5201",
   "metadata": {},
   "outputs": [
    {
     "data": {
      "text/plain": [
       "Married    317\n",
       "Single     114\n",
       "Name: marital_status, dtype: int64"
      ]
     },
     "execution_count": 358,
     "metadata": {},
     "output_type": "execute_result"
    }
   ],
   "source": [
    "cust_demo.marital_status.value_counts()"
   ]
  },
  {
   "cell_type": "code",
   "execution_count": 359,
   "id": "d1b5430e",
   "metadata": {},
   "outputs": [
    {
     "data": {
      "text/plain": [
       "2     303\n",
       "1     248\n",
       "3     104\n",
       "5+     57\n",
       "4      48\n",
       "Name: family_size, dtype: int64"
      ]
     },
     "execution_count": 359,
     "metadata": {},
     "output_type": "execute_result"
    }
   ],
   "source": [
    "cust_demo.family_size.value_counts()"
   ]
  },
  {
   "cell_type": "markdown",
   "id": "81af87d1",
   "metadata": {},
   "source": [
    "The below lines of code is to get rid of the + and keeping 5+ as 5  and converting the columns to int data type.\n",
    "type of family size = int64 ... Cant apply astype as we have 5+ as family size\n",
    "no of children = int64 ... we need to ignore the NaN values while converting to float"
   ]
  },
  {
   "cell_type": "code",
   "execution_count": 360,
   "id": "19a7da82",
   "metadata": {},
   "outputs": [],
   "source": [
    "def change(x):\n",
    "    \n",
    "    if pd.notna(x):\n",
    "        return int(re.sub('\\+','',x))\n",
    "    return x\n",
    "    \n",
    "\n",
    "\n",
    "\n",
    "cust_demo['family_size'] = cust_demo.family_size.apply(change)\n",
    "cust_demo['no_of_children'] = cust_demo.no_of_children.apply(change)"
   ]
  },
  {
   "cell_type": "markdown",
   "id": "e5251628",
   "metadata": {},
   "source": [
    "## Filling NaN values for marital_status"
   ]
  },
  {
   "cell_type": "code",
   "execution_count": 361,
   "id": "c2ab094a",
   "metadata": {},
   "outputs": [],
   "source": [
    "#customers with family size =1 will be single\n",
    "\n",
    "cust_demo.loc[pd.isnull(cust_demo.marital_status) & (cust_demo.family_size == 1),'marital_status'] = 'Single'\n",
    "\n",
    "#customers whos family size - no of childrens == 1, will also be single \n",
    "#This is applicable where there is only 1 parent --- We treat 1 parent as Single\n",
    "\n",
    "\n",
    "cust_demo.loc[(cust_demo.family_size - cust_demo.no_of_children == 1) & pd.isnull(cust_demo.marital_status),'marital_status'] = 'Single'\n",
    "\n",
    "#from the orignal data we have 186 of 196 customers with diff of 2 in their family size and number of childrens as\n",
    "#Married (see the below cell) and hence where ever the difference is 2 and marital status is NaN and No of Children is \n",
    "#NaN we impute the Mariatl Status with Married\n",
    "\n",
    "\n",
    "cust_demo.loc[(pd.isnull(cust_demo.marital_status)) & ((cust_demo.family_size - cust_demo.no_of_children) == 2)  \n",
    "              & (pd.notnull(cust_demo.no_of_children)),'marital_status'] = 'Married'\n",
    "\n",
    "#original data shows customers with fam size == 2, and NaN in no of childrens are majorly Married (see below cell skipping 1 cell)\n",
    "\n",
    "\n",
    "cust_demo.loc[pd.isnull(cust_demo.marital_status) & (pd.isnull(cust_demo.no_of_children)) \n",
    "              & (cust_demo.family_size ==2),'marital_status'] = 'Married'"
   ]
  },
  {
   "cell_type": "code",
   "execution_count": 362,
   "id": "41a6c60f",
   "metadata": {},
   "outputs": [
    {
     "data": {
      "text/plain": [
       "0"
      ]
     },
     "execution_count": 362,
     "metadata": {},
     "output_type": "execute_result"
    }
   ],
   "source": [
    "cust_demo.marital_status.isnull().sum()"
   ]
  },
  {
   "cell_type": "markdown",
   "id": "180790e9",
   "metadata": {},
   "source": [
    "## FillingNaN values for no of children"
   ]
  },
  {
   "cell_type": "code",
   "execution_count": 363,
   "id": "f3f59cfd",
   "metadata": {},
   "outputs": [],
   "source": [
    "#Married people with family_size ==2 will have 0 childrens\n",
    "cust_demo.loc[pd.isnull(cust_demo.no_of_children) & (cust_demo.marital_status == 'Married') & (cust_demo.family_size == 2),'no_of_children'] = 0\n",
    "\n",
    "#customers with family size 1 will have zero childrens\n",
    "cust_demo.loc[pd.isnull(cust_demo.no_of_children) & (cust_demo.family_size == 1), 'no_of_children'] = 0\n",
    "\n",
    "#singles with family size == 2, will probably have 1 child\n",
    "cust_demo.loc[pd.isnull(cust_demo.no_of_children) & (cust_demo.family_size == 2),'no_of_children'] = 1\n",
    "\n",
    "cust_demo['no_of_children']=cust_demo['no_of_children'].astype(np.int64)"
   ]
  },
  {
   "cell_type": "code",
   "execution_count": 364,
   "id": "4cb073c3",
   "metadata": {},
   "outputs": [],
   "source": [
    "#Label Encoding Marital Status --- 0 is Single and 1 is Married\n",
    "cust_demo[\"marital_status\"] = encoder.fit_transform(cust_demo[\"marital_status\"])"
   ]
  },
  {
   "cell_type": "code",
   "execution_count": 365,
   "id": "93d28812",
   "metadata": {},
   "outputs": [],
   "source": [
    "cust_demo[\"age_range\"] = encoder.fit_transform(cust_demo[\"age_range\"])"
   ]
  },
  {
   "cell_type": "code",
   "execution_count": 366,
   "id": "558b2d38",
   "metadata": {},
   "outputs": [
    {
     "data": {
      "text/html": [
       "<div>\n",
       "<style scoped>\n",
       "    .dataframe tbody tr th:only-of-type {\n",
       "        vertical-align: middle;\n",
       "    }\n",
       "\n",
       "    .dataframe tbody tr th {\n",
       "        vertical-align: top;\n",
       "    }\n",
       "\n",
       "    .dataframe thead th {\n",
       "        text-align: right;\n",
       "    }\n",
       "</style>\n",
       "<table border=\"1\" class=\"dataframe\">\n",
       "  <thead>\n",
       "    <tr style=\"text-align: right;\">\n",
       "      <th></th>\n",
       "      <th>customer_id</th>\n",
       "      <th>age_range</th>\n",
       "      <th>marital_status</th>\n",
       "      <th>rented</th>\n",
       "      <th>family_size</th>\n",
       "      <th>no_of_children</th>\n",
       "      <th>income_bracket</th>\n",
       "    </tr>\n",
       "  </thead>\n",
       "  <tbody>\n",
       "    <tr>\n",
       "      <th>0</th>\n",
       "      <td>1</td>\n",
       "      <td>5</td>\n",
       "      <td>0</td>\n",
       "      <td>0</td>\n",
       "      <td>2</td>\n",
       "      <td>0</td>\n",
       "      <td>4</td>\n",
       "    </tr>\n",
       "    <tr>\n",
       "      <th>1</th>\n",
       "      <td>6</td>\n",
       "      <td>3</td>\n",
       "      <td>0</td>\n",
       "      <td>0</td>\n",
       "      <td>2</td>\n",
       "      <td>0</td>\n",
       "      <td>5</td>\n",
       "    </tr>\n",
       "    <tr>\n",
       "      <th>2</th>\n",
       "      <td>7</td>\n",
       "      <td>1</td>\n",
       "      <td>0</td>\n",
       "      <td>0</td>\n",
       "      <td>3</td>\n",
       "      <td>1</td>\n",
       "      <td>3</td>\n",
       "    </tr>\n",
       "    <tr>\n",
       "      <th>3</th>\n",
       "      <td>8</td>\n",
       "      <td>1</td>\n",
       "      <td>0</td>\n",
       "      <td>0</td>\n",
       "      <td>4</td>\n",
       "      <td>2</td>\n",
       "      <td>6</td>\n",
       "    </tr>\n",
       "    <tr>\n",
       "      <th>4</th>\n",
       "      <td>10</td>\n",
       "      <td>3</td>\n",
       "      <td>1</td>\n",
       "      <td>0</td>\n",
       "      <td>1</td>\n",
       "      <td>0</td>\n",
       "      <td>5</td>\n",
       "    </tr>\n",
       "  </tbody>\n",
       "</table>\n",
       "</div>"
      ],
      "text/plain": [
       "   customer_id  age_range  marital_status  rented  family_size  \\\n",
       "0            1          5               0       0            2   \n",
       "1            6          3               0       0            2   \n",
       "2            7          1               0       0            3   \n",
       "3            8          1               0       0            4   \n",
       "4           10          3               1       0            1   \n",
       "\n",
       "   no_of_children  income_bracket  \n",
       "0               0               4  \n",
       "1               0               5  \n",
       "2               1               3  \n",
       "3               2               6  \n",
       "4               0               5  "
      ]
     },
     "execution_count": 366,
     "metadata": {},
     "output_type": "execute_result"
    }
   ],
   "source": [
    "cust_demo.head()"
   ]
  },
  {
   "cell_type": "code",
   "execution_count": 367,
   "id": "8fb44263",
   "metadata": {},
   "outputs": [
    {
     "data": {
      "text/html": [
       "<div>\n",
       "<style scoped>\n",
       "    .dataframe tbody tr th:only-of-type {\n",
       "        vertical-align: middle;\n",
       "    }\n",
       "\n",
       "    .dataframe tbody tr th {\n",
       "        vertical-align: top;\n",
       "    }\n",
       "\n",
       "    .dataframe thead th {\n",
       "        text-align: right;\n",
       "    }\n",
       "</style>\n",
       "<table border=\"1\" class=\"dataframe\">\n",
       "  <thead>\n",
       "    <tr style=\"text-align: right;\">\n",
       "      <th></th>\n",
       "      <th>campaign_id</th>\n",
       "      <th>campaign_type</th>\n",
       "      <th>start_date</th>\n",
       "      <th>end_date</th>\n",
       "    </tr>\n",
       "  </thead>\n",
       "  <tbody>\n",
       "    <tr>\n",
       "      <th>0</th>\n",
       "      <td>24</td>\n",
       "      <td>Y</td>\n",
       "      <td>21/10/13</td>\n",
       "      <td>20/12/13</td>\n",
       "    </tr>\n",
       "    <tr>\n",
       "      <th>1</th>\n",
       "      <td>25</td>\n",
       "      <td>Y</td>\n",
       "      <td>21/10/13</td>\n",
       "      <td>22/11/13</td>\n",
       "    </tr>\n",
       "    <tr>\n",
       "      <th>2</th>\n",
       "      <td>20</td>\n",
       "      <td>Y</td>\n",
       "      <td>07/09/13</td>\n",
       "      <td>16/11/13</td>\n",
       "    </tr>\n",
       "    <tr>\n",
       "      <th>3</th>\n",
       "      <td>23</td>\n",
       "      <td>Y</td>\n",
       "      <td>08/10/13</td>\n",
       "      <td>15/11/13</td>\n",
       "    </tr>\n",
       "    <tr>\n",
       "      <th>4</th>\n",
       "      <td>21</td>\n",
       "      <td>Y</td>\n",
       "      <td>16/09/13</td>\n",
       "      <td>18/10/13</td>\n",
       "    </tr>\n",
       "  </tbody>\n",
       "</table>\n",
       "</div>"
      ],
      "text/plain": [
       "   campaign_id campaign_type start_date  end_date\n",
       "0           24             Y   21/10/13  20/12/13\n",
       "1           25             Y   21/10/13  22/11/13\n",
       "2           20             Y   07/09/13  16/11/13\n",
       "3           23             Y   08/10/13  15/11/13\n",
       "4           21             Y   16/09/13  18/10/13"
      ]
     },
     "execution_count": 367,
     "metadata": {},
     "output_type": "execute_result"
    }
   ],
   "source": [
    "campaign.head()\n"
   ]
  },
  {
   "cell_type": "code",
   "execution_count": 368,
   "id": "360fd077",
   "metadata": {},
   "outputs": [
    {
     "name": "stdout",
     "output_type": "stream",
     "text": [
      "<class 'pandas.core.frame.DataFrame'>\n",
      "RangeIndex: 28 entries, 0 to 27\n",
      "Data columns (total 4 columns):\n",
      " #   Column         Non-Null Count  Dtype \n",
      "---  ------         --------------  ----- \n",
      " 0   campaign_id    28 non-null     int64 \n",
      " 1   campaign_type  28 non-null     object\n",
      " 2   start_date     28 non-null     object\n",
      " 3   end_date       28 non-null     object\n",
      "dtypes: int64(1), object(3)\n",
      "memory usage: 1.0+ KB\n"
     ]
    }
   ],
   "source": [
    "campaign.info()"
   ]
  },
  {
   "cell_type": "code",
   "execution_count": 369,
   "id": "701ac622",
   "metadata": {},
   "outputs": [
    {
     "data": {
      "text/plain": [
       "Y    22\n",
       "X     6\n",
       "Name: campaign_type, dtype: int64"
      ]
     },
     "execution_count": 369,
     "metadata": {},
     "output_type": "execute_result"
    }
   ],
   "source": [
    "campaign.campaign_type.value_counts()"
   ]
  },
  {
   "cell_type": "markdown",
   "id": "f535c2cd",
   "metadata": {},
   "source": [
    "Of 28 total campaigns, 22 of them are of Y type and 6 are of x type"
   ]
  },
  {
   "cell_type": "code",
   "execution_count": 370,
   "id": "a5ea947c",
   "metadata": {},
   "outputs": [
    {
     "name": "stdout",
     "output_type": "stream",
     "text": [
      "[24 25 20 23 21 22 18 19 17 16 13 11 12 10  9  8  7  6  3  5  4  1  2 30\n",
      " 29 28 27 26]\n"
     ]
    }
   ],
   "source": [
    "print(campaign.campaign_id.unique())"
   ]
  },
  {
   "cell_type": "code",
   "execution_count": 371,
   "id": "965c25fd",
   "metadata": {},
   "outputs": [],
   "source": [
    "#Label Encoding Campaign type\n",
    "campaign[\"campaign_type\"] = encoder.fit_transform(campaign.campaign_type)"
   ]
  },
  {
   "cell_type": "markdown",
   "id": "c4d89f0c",
   "metadata": {},
   "source": [
    "Calculating the duration for which the campaigns were done"
   ]
  },
  {
   "cell_type": "code",
   "execution_count": 372,
   "id": "55a878ab",
   "metadata": {},
   "outputs": [
    {
     "data": {
      "text/html": [
       "<div>\n",
       "<style scoped>\n",
       "    .dataframe tbody tr th:only-of-type {\n",
       "        vertical-align: middle;\n",
       "    }\n",
       "\n",
       "    .dataframe tbody tr th {\n",
       "        vertical-align: top;\n",
       "    }\n",
       "\n",
       "    .dataframe thead th {\n",
       "        text-align: right;\n",
       "    }\n",
       "</style>\n",
       "<table border=\"1\" class=\"dataframe\">\n",
       "  <thead>\n",
       "    <tr style=\"text-align: right;\">\n",
       "      <th></th>\n",
       "      <th>campaign_id</th>\n",
       "      <th>campaign_type</th>\n",
       "      <th>start_date</th>\n",
       "      <th>end_date</th>\n",
       "      <th>campaign_duration</th>\n",
       "    </tr>\n",
       "  </thead>\n",
       "  <tbody>\n",
       "    <tr>\n",
       "      <th>0</th>\n",
       "      <td>24</td>\n",
       "      <td>1</td>\n",
       "      <td>21/10/13</td>\n",
       "      <td>20/12/13</td>\n",
       "      <td>60</td>\n",
       "    </tr>\n",
       "    <tr>\n",
       "      <th>1</th>\n",
       "      <td>25</td>\n",
       "      <td>1</td>\n",
       "      <td>21/10/13</td>\n",
       "      <td>22/11/13</td>\n",
       "      <td>32</td>\n",
       "    </tr>\n",
       "    <tr>\n",
       "      <th>2</th>\n",
       "      <td>20</td>\n",
       "      <td>1</td>\n",
       "      <td>07/09/13</td>\n",
       "      <td>16/11/13</td>\n",
       "      <td>70</td>\n",
       "    </tr>\n",
       "    <tr>\n",
       "      <th>3</th>\n",
       "      <td>23</td>\n",
       "      <td>1</td>\n",
       "      <td>08/10/13</td>\n",
       "      <td>15/11/13</td>\n",
       "      <td>38</td>\n",
       "    </tr>\n",
       "    <tr>\n",
       "      <th>4</th>\n",
       "      <td>21</td>\n",
       "      <td>1</td>\n",
       "      <td>16/09/13</td>\n",
       "      <td>18/10/13</td>\n",
       "      <td>32</td>\n",
       "    </tr>\n",
       "  </tbody>\n",
       "</table>\n",
       "</div>"
      ],
      "text/plain": [
       "   campaign_id  campaign_type start_date  end_date  campaign_duration\n",
       "0           24              1   21/10/13  20/12/13                 60\n",
       "1           25              1   21/10/13  22/11/13                 32\n",
       "2           20              1   07/09/13  16/11/13                 70\n",
       "3           23              1   08/10/13  15/11/13                 38\n",
       "4           21              1   16/09/13  18/10/13                 32"
      ]
     },
     "execution_count": 372,
     "metadata": {},
     "output_type": "execute_result"
    }
   ],
   "source": [
    "date_diff = []\n",
    "\n",
    "monthDays = [31, 28, 31, 30, 31, 30, 31, 31, 30, 31, 30, 31]\n",
    "\n",
    "class Date:\n",
    "    def __init__(self, d, m, y):\n",
    "        self.d = d\n",
    "        self.m = m\n",
    "        self.y = y\n",
    "\n",
    "\n",
    "def getDifference(dt1, dt2):\n",
    "    \n",
    "    \n",
    "    n1 = dt1.y * 365 + dt1.d\n",
    " \n",
    "    for i in range(0, dt1.m - 1):\n",
    "        n1 += monthDays[i]\n",
    " \n",
    "    n2 = dt2.y * 365 + dt2.d\n",
    "    for i in range(0, dt2.m - 1):\n",
    "        n2 += monthDays[i]\n",
    "        \n",
    "        \n",
    "   \n",
    "    return (n2 - n1)\n",
    "\n",
    "for i in range(len(campaign.start_date)):\n",
    "    \n",
    "    \n",
    "    s = campaign.start_date[i]\n",
    "    e = campaign.end_date[i]\n",
    "    s_d = Date(int(s[:2]),int(s[3:5]),int(s[6:8]))\n",
    "    e_d = Date(int(e[:2]),int(e[3:5]),int(e[6:8]))\n",
    "    \n",
    "    date_diff.append(getDifference(s_d,e_d))\n",
    "    \n",
    "campaign['campaign_duration'] = date_diff\n",
    "\n",
    "campaign.head()\n",
    "    \n",
    "   "
   ]
  },
  {
   "cell_type": "markdown",
   "id": "ae8355ef",
   "metadata": {},
   "source": [
    "Exploring Customer Transaction"
   ]
  },
  {
   "cell_type": "code",
   "execution_count": 373,
   "id": "823645bf",
   "metadata": {},
   "outputs": [],
   "source": [
    "#Converting the date columns to date time\n",
    "campaign['start_date'] = pd.to_datetime(campaign['start_date'], format = '%d/%m/%y')\n",
    "campaign['end_date'] = pd.to_datetime(campaign['end_date'], format = '%d/%m/%y')"
   ]
  },
  {
   "cell_type": "code",
   "execution_count": 374,
   "id": "d6d80651",
   "metadata": {},
   "outputs": [
    {
     "data": {
      "text/html": [
       "<div>\n",
       "<style scoped>\n",
       "    .dataframe tbody tr th:only-of-type {\n",
       "        vertical-align: middle;\n",
       "    }\n",
       "\n",
       "    .dataframe tbody tr th {\n",
       "        vertical-align: top;\n",
       "    }\n",
       "\n",
       "    .dataframe thead th {\n",
       "        text-align: right;\n",
       "    }\n",
       "</style>\n",
       "<table border=\"1\" class=\"dataframe\">\n",
       "  <thead>\n",
       "    <tr style=\"text-align: right;\">\n",
       "      <th></th>\n",
       "      <th>date</th>\n",
       "      <th>customer_id</th>\n",
       "      <th>item_id</th>\n",
       "      <th>quantity</th>\n",
       "      <th>selling_price</th>\n",
       "      <th>other_discount</th>\n",
       "      <th>coupon_discount</th>\n",
       "    </tr>\n",
       "  </thead>\n",
       "  <tbody>\n",
       "    <tr>\n",
       "      <th>0</th>\n",
       "      <td>2012-01-02</td>\n",
       "      <td>1501</td>\n",
       "      <td>26830</td>\n",
       "      <td>1</td>\n",
       "      <td>35.26</td>\n",
       "      <td>-10.69</td>\n",
       "      <td>0.0</td>\n",
       "    </tr>\n",
       "    <tr>\n",
       "      <th>1</th>\n",
       "      <td>2012-01-02</td>\n",
       "      <td>1501</td>\n",
       "      <td>54253</td>\n",
       "      <td>1</td>\n",
       "      <td>53.43</td>\n",
       "      <td>-13.89</td>\n",
       "      <td>0.0</td>\n",
       "    </tr>\n",
       "    <tr>\n",
       "      <th>2</th>\n",
       "      <td>2012-01-02</td>\n",
       "      <td>1501</td>\n",
       "      <td>31962</td>\n",
       "      <td>1</td>\n",
       "      <td>106.50</td>\n",
       "      <td>-14.25</td>\n",
       "      <td>0.0</td>\n",
       "    </tr>\n",
       "    <tr>\n",
       "      <th>3</th>\n",
       "      <td>2012-01-02</td>\n",
       "      <td>1501</td>\n",
       "      <td>33647</td>\n",
       "      <td>1</td>\n",
       "      <td>67.32</td>\n",
       "      <td>0.00</td>\n",
       "      <td>0.0</td>\n",
       "    </tr>\n",
       "    <tr>\n",
       "      <th>4</th>\n",
       "      <td>2012-01-02</td>\n",
       "      <td>1501</td>\n",
       "      <td>48199</td>\n",
       "      <td>1</td>\n",
       "      <td>71.24</td>\n",
       "      <td>-28.14</td>\n",
       "      <td>0.0</td>\n",
       "    </tr>\n",
       "  </tbody>\n",
       "</table>\n",
       "</div>"
      ],
      "text/plain": [
       "         date  customer_id  item_id  quantity  selling_price  other_discount  \\\n",
       "0  2012-01-02         1501    26830         1          35.26          -10.69   \n",
       "1  2012-01-02         1501    54253         1          53.43          -13.89   \n",
       "2  2012-01-02         1501    31962         1         106.50          -14.25   \n",
       "3  2012-01-02         1501    33647         1          67.32            0.00   \n",
       "4  2012-01-02         1501    48199         1          71.24          -28.14   \n",
       "\n",
       "   coupon_discount  \n",
       "0              0.0  \n",
       "1              0.0  \n",
       "2              0.0  \n",
       "3              0.0  \n",
       "4              0.0  "
      ]
     },
     "execution_count": 374,
     "metadata": {},
     "output_type": "execute_result"
    }
   ],
   "source": [
    "cust_tran.head()"
   ]
  },
  {
   "cell_type": "code",
   "execution_count": 375,
   "id": "a2f63f27",
   "metadata": {},
   "outputs": [
    {
     "name": "stdout",
     "output_type": "stream",
     "text": [
      "<class 'pandas.core.frame.DataFrame'>\n",
      "RangeIndex: 1324566 entries, 0 to 1324565\n",
      "Data columns (total 7 columns):\n",
      " #   Column           Non-Null Count    Dtype  \n",
      "---  ------           --------------    -----  \n",
      " 0   date             1324566 non-null  object \n",
      " 1   customer_id      1324566 non-null  int64  \n",
      " 2   item_id          1324566 non-null  int64  \n",
      " 3   quantity         1324566 non-null  int64  \n",
      " 4   selling_price    1324566 non-null  float64\n",
      " 5   other_discount   1324566 non-null  float64\n",
      " 6   coupon_discount  1324566 non-null  float64\n",
      "dtypes: float64(3), int64(3), object(1)\n",
      "memory usage: 70.7+ MB\n"
     ]
    }
   ],
   "source": [
    "cust_tran.info()"
   ]
  },
  {
   "cell_type": "code",
   "execution_count": 376,
   "id": "d0dd3d9f",
   "metadata": {},
   "outputs": [],
   "source": [
    "cust_tran.date = pd.to_datetime(cust_tran['date'], yearfirst=True)\n",
    "cust_tran = cust_tran.sort_values('date').reset_index(drop=True)"
   ]
  },
  {
   "cell_type": "code",
   "execution_count": 377,
   "id": "3c5cebbc",
   "metadata": {},
   "outputs": [
    {
     "data": {
      "text/html": [
       "<div>\n",
       "<style scoped>\n",
       "    .dataframe tbody tr th:only-of-type {\n",
       "        vertical-align: middle;\n",
       "    }\n",
       "\n",
       "    .dataframe tbody tr th {\n",
       "        vertical-align: top;\n",
       "    }\n",
       "\n",
       "    .dataframe thead th {\n",
       "        text-align: right;\n",
       "    }\n",
       "</style>\n",
       "<table border=\"1\" class=\"dataframe\">\n",
       "  <thead>\n",
       "    <tr style=\"text-align: right;\">\n",
       "      <th></th>\n",
       "      <th>date</th>\n",
       "      <th>customer_id</th>\n",
       "      <th>item_id</th>\n",
       "      <th>quantity</th>\n",
       "      <th>selling_price</th>\n",
       "      <th>other_discount</th>\n",
       "      <th>coupon_discount</th>\n",
       "    </tr>\n",
       "  </thead>\n",
       "  <tbody>\n",
       "    <tr>\n",
       "      <th>0</th>\n",
       "      <td>2012-01-02</td>\n",
       "      <td>1501</td>\n",
       "      <td>26830</td>\n",
       "      <td>1</td>\n",
       "      <td>35.26</td>\n",
       "      <td>-10.69</td>\n",
       "      <td>0.00</td>\n",
       "    </tr>\n",
       "    <tr>\n",
       "      <th>1</th>\n",
       "      <td>2012-01-02</td>\n",
       "      <td>464</td>\n",
       "      <td>20697</td>\n",
       "      <td>1</td>\n",
       "      <td>92.26</td>\n",
       "      <td>-21.37</td>\n",
       "      <td>-35.62</td>\n",
       "    </tr>\n",
       "    <tr>\n",
       "      <th>2</th>\n",
       "      <td>2012-01-02</td>\n",
       "      <td>464</td>\n",
       "      <td>20717</td>\n",
       "      <td>2</td>\n",
       "      <td>28.50</td>\n",
       "      <td>-27.78</td>\n",
       "      <td>0.00</td>\n",
       "    </tr>\n",
       "    <tr>\n",
       "      <th>3</th>\n",
       "      <td>2012-01-02</td>\n",
       "      <td>464</td>\n",
       "      <td>21008</td>\n",
       "      <td>1</td>\n",
       "      <td>35.26</td>\n",
       "      <td>-17.81</td>\n",
       "      <td>0.00</td>\n",
       "    </tr>\n",
       "    <tr>\n",
       "      <th>4</th>\n",
       "      <td>2012-01-02</td>\n",
       "      <td>464</td>\n",
       "      <td>22243</td>\n",
       "      <td>2</td>\n",
       "      <td>118.97</td>\n",
       "      <td>-22.80</td>\n",
       "      <td>0.00</td>\n",
       "    </tr>\n",
       "  </tbody>\n",
       "</table>\n",
       "</div>"
      ],
      "text/plain": [
       "        date  customer_id  item_id  quantity  selling_price  other_discount  \\\n",
       "0 2012-01-02         1501    26830         1          35.26          -10.69   \n",
       "1 2012-01-02          464    20697         1          92.26          -21.37   \n",
       "2 2012-01-02          464    20717         2          28.50          -27.78   \n",
       "3 2012-01-02          464    21008         1          35.26          -17.81   \n",
       "4 2012-01-02          464    22243         2         118.97          -22.80   \n",
       "\n",
       "   coupon_discount  \n",
       "0             0.00  \n",
       "1           -35.62  \n",
       "2             0.00  \n",
       "3             0.00  \n",
       "4             0.00  "
      ]
     },
     "execution_count": 377,
     "metadata": {},
     "output_type": "execute_result"
    }
   ],
   "source": [
    "cust_tran.head()"
   ]
  },
  {
   "cell_type": "code",
   "execution_count": 378,
   "id": "62acb6cf",
   "metadata": {},
   "outputs": [],
   "source": [
    "#Creating 3 new columns from the date column\n",
    "cust_tran['day'] = cust_tran[\"date\"].apply(lambda x: x.day)\n",
    "cust_tran['dow'] = cust_tran[\"date\"].apply(lambda x: x.weekday())\n",
    "cust_tran['month'] = cust_tran[\"date\"].apply(lambda x: x.month)"
   ]
  },
  {
   "cell_type": "code",
   "execution_count": 379,
   "id": "1ebb4826",
   "metadata": {},
   "outputs": [],
   "source": [
    "#Given selling_price and other_discount are for the entire transaction. Hence getting the Actual value of the transaction.\n",
    "cust_tran.selling_price = cust_tran.selling_price/cust_tran.quantity\n",
    "cust_tran.other_discount = cust_tran.other_discount/cust_tran.quantity\n",
    "cust_tran.selling_price = cust_tran.selling_price - cust_tran.other_discount"
   ]
  },
  {
   "cell_type": "code",
   "execution_count": 380,
   "id": "b012ac0b",
   "metadata": {},
   "outputs": [],
   "source": [
    "#Inserting a new column to know if the coupon was used or not\n",
    "\n",
    "\n",
    "def check(x):\n",
    "    if x !=0 :\n",
    "        return 1\n",
    "    return 0\n",
    "    \n",
    "\n",
    "cust_tran['coupon_used'] = cust_tran.coupon_discount.apply(check)"
   ]
  },
  {
   "cell_type": "code",
   "execution_count": 381,
   "id": "2ae9309f",
   "metadata": {},
   "outputs": [
    {
     "data": {
      "text/html": [
       "<div>\n",
       "<style scoped>\n",
       "    .dataframe tbody tr th:only-of-type {\n",
       "        vertical-align: middle;\n",
       "    }\n",
       "\n",
       "    .dataframe tbody tr th {\n",
       "        vertical-align: top;\n",
       "    }\n",
       "\n",
       "    .dataframe thead th {\n",
       "        text-align: right;\n",
       "    }\n",
       "</style>\n",
       "<table border=\"1\" class=\"dataframe\">\n",
       "  <thead>\n",
       "    <tr style=\"text-align: right;\">\n",
       "      <th></th>\n",
       "      <th>date</th>\n",
       "      <th>customer_id</th>\n",
       "      <th>item_id</th>\n",
       "      <th>quantity</th>\n",
       "      <th>selling_price</th>\n",
       "      <th>other_discount</th>\n",
       "      <th>coupon_discount</th>\n",
       "      <th>day</th>\n",
       "      <th>dow</th>\n",
       "      <th>month</th>\n",
       "      <th>coupon_used</th>\n",
       "    </tr>\n",
       "  </thead>\n",
       "  <tbody>\n",
       "    <tr>\n",
       "      <th>0</th>\n",
       "      <td>2012-01-02</td>\n",
       "      <td>1501</td>\n",
       "      <td>26830</td>\n",
       "      <td>1</td>\n",
       "      <td>45.950</td>\n",
       "      <td>-10.69</td>\n",
       "      <td>0.00</td>\n",
       "      <td>2</td>\n",
       "      <td>0</td>\n",
       "      <td>1</td>\n",
       "      <td>0</td>\n",
       "    </tr>\n",
       "    <tr>\n",
       "      <th>1</th>\n",
       "      <td>2012-01-02</td>\n",
       "      <td>464</td>\n",
       "      <td>20697</td>\n",
       "      <td>1</td>\n",
       "      <td>113.630</td>\n",
       "      <td>-21.37</td>\n",
       "      <td>-35.62</td>\n",
       "      <td>2</td>\n",
       "      <td>0</td>\n",
       "      <td>1</td>\n",
       "      <td>1</td>\n",
       "    </tr>\n",
       "    <tr>\n",
       "      <th>2</th>\n",
       "      <td>2012-01-02</td>\n",
       "      <td>464</td>\n",
       "      <td>20717</td>\n",
       "      <td>2</td>\n",
       "      <td>28.140</td>\n",
       "      <td>-13.89</td>\n",
       "      <td>0.00</td>\n",
       "      <td>2</td>\n",
       "      <td>0</td>\n",
       "      <td>1</td>\n",
       "      <td>0</td>\n",
       "    </tr>\n",
       "    <tr>\n",
       "      <th>3</th>\n",
       "      <td>2012-01-02</td>\n",
       "      <td>464</td>\n",
       "      <td>21008</td>\n",
       "      <td>1</td>\n",
       "      <td>53.070</td>\n",
       "      <td>-17.81</td>\n",
       "      <td>0.00</td>\n",
       "      <td>2</td>\n",
       "      <td>0</td>\n",
       "      <td>1</td>\n",
       "      <td>0</td>\n",
       "    </tr>\n",
       "    <tr>\n",
       "      <th>4</th>\n",
       "      <td>2012-01-02</td>\n",
       "      <td>464</td>\n",
       "      <td>22243</td>\n",
       "      <td>2</td>\n",
       "      <td>70.885</td>\n",
       "      <td>-11.40</td>\n",
       "      <td>0.00</td>\n",
       "      <td>2</td>\n",
       "      <td>0</td>\n",
       "      <td>1</td>\n",
       "      <td>0</td>\n",
       "    </tr>\n",
       "  </tbody>\n",
       "</table>\n",
       "</div>"
      ],
      "text/plain": [
       "        date  customer_id  item_id  quantity  selling_price  other_discount  \\\n",
       "0 2012-01-02         1501    26830         1         45.950          -10.69   \n",
       "1 2012-01-02          464    20697         1        113.630          -21.37   \n",
       "2 2012-01-02          464    20717         2         28.140          -13.89   \n",
       "3 2012-01-02          464    21008         1         53.070          -17.81   \n",
       "4 2012-01-02          464    22243         2         70.885          -11.40   \n",
       "\n",
       "   coupon_discount  day  dow  month  coupon_used  \n",
       "0             0.00    2    0      1            0  \n",
       "1           -35.62    2    0      1            1  \n",
       "2             0.00    2    0      1            0  \n",
       "3             0.00    2    0      1            0  \n",
       "4             0.00    2    0      1            0  "
      ]
     },
     "execution_count": 381,
     "metadata": {},
     "output_type": "execute_result"
    }
   ],
   "source": [
    "cust_tran.head()"
   ]
  },
  {
   "cell_type": "markdown",
   "id": "1d43b147",
   "metadata": {},
   "source": [
    "## Dealing with Items Dataframe "
   ]
  },
  {
   "cell_type": "code",
   "execution_count": 382,
   "id": "b962aa8f",
   "metadata": {},
   "outputs": [
    {
     "data": {
      "text/html": [
       "<div>\n",
       "<style scoped>\n",
       "    .dataframe tbody tr th:only-of-type {\n",
       "        vertical-align: middle;\n",
       "    }\n",
       "\n",
       "    .dataframe tbody tr th {\n",
       "        vertical-align: top;\n",
       "    }\n",
       "\n",
       "    .dataframe thead th {\n",
       "        text-align: right;\n",
       "    }\n",
       "</style>\n",
       "<table border=\"1\" class=\"dataframe\">\n",
       "  <thead>\n",
       "    <tr style=\"text-align: right;\">\n",
       "      <th></th>\n",
       "      <th>item_id</th>\n",
       "      <th>brand</th>\n",
       "      <th>brand_type</th>\n",
       "      <th>category</th>\n",
       "    </tr>\n",
       "  </thead>\n",
       "  <tbody>\n",
       "    <tr>\n",
       "      <th>0</th>\n",
       "      <td>1</td>\n",
       "      <td>1</td>\n",
       "      <td>Established</td>\n",
       "      <td>Grocery</td>\n",
       "    </tr>\n",
       "    <tr>\n",
       "      <th>1</th>\n",
       "      <td>2</td>\n",
       "      <td>1</td>\n",
       "      <td>Established</td>\n",
       "      <td>Miscellaneous</td>\n",
       "    </tr>\n",
       "    <tr>\n",
       "      <th>2</th>\n",
       "      <td>3</td>\n",
       "      <td>56</td>\n",
       "      <td>Local</td>\n",
       "      <td>Bakery</td>\n",
       "    </tr>\n",
       "    <tr>\n",
       "      <th>3</th>\n",
       "      <td>4</td>\n",
       "      <td>56</td>\n",
       "      <td>Local</td>\n",
       "      <td>Grocery</td>\n",
       "    </tr>\n",
       "    <tr>\n",
       "      <th>4</th>\n",
       "      <td>5</td>\n",
       "      <td>56</td>\n",
       "      <td>Local</td>\n",
       "      <td>Grocery</td>\n",
       "    </tr>\n",
       "  </tbody>\n",
       "</table>\n",
       "</div>"
      ],
      "text/plain": [
       "   item_id  brand   brand_type       category\n",
       "0        1      1  Established        Grocery\n",
       "1        2      1  Established  Miscellaneous\n",
       "2        3     56        Local         Bakery\n",
       "3        4     56        Local        Grocery\n",
       "4        5     56        Local        Grocery"
      ]
     },
     "execution_count": 382,
     "metadata": {},
     "output_type": "execute_result"
    }
   ],
   "source": [
    "items.head()"
   ]
  },
  {
   "cell_type": "code",
   "execution_count": 383,
   "id": "673ed571",
   "metadata": {},
   "outputs": [
    {
     "data": {
      "text/plain": [
       "Established    62842\n",
       "Local          11224\n",
       "Name: brand_type, dtype: int64"
      ]
     },
     "execution_count": 383,
     "metadata": {},
     "output_type": "execute_result"
    }
   ],
   "source": [
    "items.brand_type.value_counts()"
   ]
  },
  {
   "cell_type": "code",
   "execution_count": 384,
   "id": "2d1848bb",
   "metadata": {},
   "outputs": [
    {
     "data": {
      "text/plain": [
       "Grocery                   32448\n",
       "Pharmaceutical            24471\n",
       "Natural Products           2533\n",
       "Dairy, Juices & Snacks     2425\n",
       "Skin & Hair Care           2244\n",
       "Meat                       2080\n",
       "Packaged Meat              1966\n",
       "Prepared Food              1880\n",
       "Bakery                     1679\n",
       "Seafood                     728\n",
       "Flowers & Plants            664\n",
       "Miscellaneous               385\n",
       "Alcohol                     303\n",
       "Garden                      102\n",
       "Restauarant                  78\n",
       "Salads                       40\n",
       "Travel                       19\n",
       "Fuel                         14\n",
       "Vegetables (cut)              7\n",
       "Name: category, dtype: int64"
      ]
     },
     "execution_count": 384,
     "metadata": {},
     "output_type": "execute_result"
    }
   ],
   "source": [
    "items.category.value_counts()"
   ]
  },
  {
   "cell_type": "code",
   "execution_count": 385,
   "id": "d12ecc9b",
   "metadata": {},
   "outputs": [],
   "source": [
    "#Label Encoding the brand_type and category columns\n",
    "items.brand_type = encoder.fit_transform(items[\"brand_type\"])\n",
    "items.category = encoder.fit_transform(items[\"category\"])"
   ]
  },
  {
   "cell_type": "code",
   "execution_count": 386,
   "id": "0b13b62d",
   "metadata": {},
   "outputs": [
    {
     "data": {
      "text/html": [
       "<div>\n",
       "<style scoped>\n",
       "    .dataframe tbody tr th:only-of-type {\n",
       "        vertical-align: middle;\n",
       "    }\n",
       "\n",
       "    .dataframe tbody tr th {\n",
       "        vertical-align: top;\n",
       "    }\n",
       "\n",
       "    .dataframe thead th {\n",
       "        text-align: right;\n",
       "    }\n",
       "</style>\n",
       "<table border=\"1\" class=\"dataframe\">\n",
       "  <thead>\n",
       "    <tr style=\"text-align: right;\">\n",
       "      <th></th>\n",
       "      <th>item_id</th>\n",
       "      <th>brand</th>\n",
       "      <th>brand_type</th>\n",
       "      <th>category</th>\n",
       "    </tr>\n",
       "  </thead>\n",
       "  <tbody>\n",
       "    <tr>\n",
       "      <th>0</th>\n",
       "      <td>1</td>\n",
       "      <td>1</td>\n",
       "      <td>0</td>\n",
       "      <td>6</td>\n",
       "    </tr>\n",
       "    <tr>\n",
       "      <th>1</th>\n",
       "      <td>2</td>\n",
       "      <td>1</td>\n",
       "      <td>0</td>\n",
       "      <td>8</td>\n",
       "    </tr>\n",
       "    <tr>\n",
       "      <th>2</th>\n",
       "      <td>3</td>\n",
       "      <td>56</td>\n",
       "      <td>1</td>\n",
       "      <td>1</td>\n",
       "    </tr>\n",
       "    <tr>\n",
       "      <th>3</th>\n",
       "      <td>4</td>\n",
       "      <td>56</td>\n",
       "      <td>1</td>\n",
       "      <td>6</td>\n",
       "    </tr>\n",
       "    <tr>\n",
       "      <th>4</th>\n",
       "      <td>5</td>\n",
       "      <td>56</td>\n",
       "      <td>1</td>\n",
       "      <td>6</td>\n",
       "    </tr>\n",
       "  </tbody>\n",
       "</table>\n",
       "</div>"
      ],
      "text/plain": [
       "   item_id  brand  brand_type  category\n",
       "0        1      1           0         6\n",
       "1        2      1           0         8\n",
       "2        3     56           1         1\n",
       "3        4     56           1         6\n",
       "4        5     56           1         6"
      ]
     },
     "execution_count": 386,
     "metadata": {},
     "output_type": "execute_result"
    }
   ],
   "source": [
    "items.head()"
   ]
  },
  {
   "cell_type": "markdown",
   "id": "6cdfe5ec",
   "metadata": {},
   "source": [
    "## Dealing with Coupoun Dataframe"
   ]
  },
  {
   "cell_type": "code",
   "execution_count": 387,
   "id": "bd183cef",
   "metadata": {},
   "outputs": [
    {
     "data": {
      "text/html": [
       "<div>\n",
       "<style scoped>\n",
       "    .dataframe tbody tr th:only-of-type {\n",
       "        vertical-align: middle;\n",
       "    }\n",
       "\n",
       "    .dataframe tbody tr th {\n",
       "        vertical-align: top;\n",
       "    }\n",
       "\n",
       "    .dataframe thead th {\n",
       "        text-align: right;\n",
       "    }\n",
       "</style>\n",
       "<table border=\"1\" class=\"dataframe\">\n",
       "  <thead>\n",
       "    <tr style=\"text-align: right;\">\n",
       "      <th></th>\n",
       "      <th>coupon_id</th>\n",
       "      <th>item_id</th>\n",
       "    </tr>\n",
       "  </thead>\n",
       "  <tbody>\n",
       "    <tr>\n",
       "      <th>0</th>\n",
       "      <td>105</td>\n",
       "      <td>37</td>\n",
       "    </tr>\n",
       "    <tr>\n",
       "      <th>1</th>\n",
       "      <td>107</td>\n",
       "      <td>75</td>\n",
       "    </tr>\n",
       "    <tr>\n",
       "      <th>2</th>\n",
       "      <td>494</td>\n",
       "      <td>76</td>\n",
       "    </tr>\n",
       "    <tr>\n",
       "      <th>3</th>\n",
       "      <td>522</td>\n",
       "      <td>77</td>\n",
       "    </tr>\n",
       "    <tr>\n",
       "      <th>4</th>\n",
       "      <td>518</td>\n",
       "      <td>77</td>\n",
       "    </tr>\n",
       "  </tbody>\n",
       "</table>\n",
       "</div>"
      ],
      "text/plain": [
       "   coupon_id  item_id\n",
       "0        105       37\n",
       "1        107       75\n",
       "2        494       76\n",
       "3        522       77\n",
       "4        518       77"
      ]
     },
     "execution_count": 387,
     "metadata": {},
     "output_type": "execute_result"
    }
   ],
   "source": [
    "coupons.head()"
   ]
  },
  {
   "cell_type": "markdown",
   "id": "286c4dcb",
   "metadata": {},
   "source": [
    "## Data Prepration by mergeing the data frames"
   ]
  },
  {
   "cell_type": "markdown",
   "id": "b6281ac9",
   "metadata": {},
   "source": [
    "Merging coupons and items data on 'item_id'"
   ]
  },
  {
   "cell_type": "code",
   "execution_count": 388,
   "id": "70d481c6",
   "metadata": {},
   "outputs": [],
   "source": [
    "coupons_items = pd.merge(coupons, items, on=\"item_id\", how=\"left\")"
   ]
  },
  {
   "cell_type": "code",
   "execution_count": 389,
   "id": "b78c3a2a",
   "metadata": {},
   "outputs": [
    {
     "data": {
      "text/html": [
       "<div>\n",
       "<style scoped>\n",
       "    .dataframe tbody tr th:only-of-type {\n",
       "        vertical-align: middle;\n",
       "    }\n",
       "\n",
       "    .dataframe tbody tr th {\n",
       "        vertical-align: top;\n",
       "    }\n",
       "\n",
       "    .dataframe thead th {\n",
       "        text-align: right;\n",
       "    }\n",
       "</style>\n",
       "<table border=\"1\" class=\"dataframe\">\n",
       "  <thead>\n",
       "    <tr style=\"text-align: right;\">\n",
       "      <th></th>\n",
       "      <th>coupon_id</th>\n",
       "      <th>item_id</th>\n",
       "      <th>brand</th>\n",
       "      <th>brand_type</th>\n",
       "      <th>category</th>\n",
       "    </tr>\n",
       "  </thead>\n",
       "  <tbody>\n",
       "    <tr>\n",
       "      <th>0</th>\n",
       "      <td>105</td>\n",
       "      <td>37</td>\n",
       "      <td>56</td>\n",
       "      <td>1</td>\n",
       "      <td>6</td>\n",
       "    </tr>\n",
       "    <tr>\n",
       "      <th>1</th>\n",
       "      <td>107</td>\n",
       "      <td>75</td>\n",
       "      <td>56</td>\n",
       "      <td>1</td>\n",
       "      <td>6</td>\n",
       "    </tr>\n",
       "    <tr>\n",
       "      <th>2</th>\n",
       "      <td>494</td>\n",
       "      <td>76</td>\n",
       "      <td>209</td>\n",
       "      <td>0</td>\n",
       "      <td>6</td>\n",
       "    </tr>\n",
       "    <tr>\n",
       "      <th>3</th>\n",
       "      <td>522</td>\n",
       "      <td>77</td>\n",
       "      <td>278</td>\n",
       "      <td>0</td>\n",
       "      <td>6</td>\n",
       "    </tr>\n",
       "    <tr>\n",
       "      <th>4</th>\n",
       "      <td>518</td>\n",
       "      <td>77</td>\n",
       "      <td>278</td>\n",
       "      <td>0</td>\n",
       "      <td>6</td>\n",
       "    </tr>\n",
       "  </tbody>\n",
       "</table>\n",
       "</div>"
      ],
      "text/plain": [
       "   coupon_id  item_id  brand  brand_type  category\n",
       "0        105       37     56           1         6\n",
       "1        107       75     56           1         6\n",
       "2        494       76    209           0         6\n",
       "3        522       77    278           0         6\n",
       "4        518       77    278           0         6"
      ]
     },
     "execution_count": 389,
     "metadata": {},
     "output_type": "execute_result"
    }
   ],
   "source": [
    "coupons_items.head()"
   ]
  },
  {
   "cell_type": "code",
   "execution_count": 390,
   "id": "057ce992",
   "metadata": {},
   "outputs": [],
   "source": [
    "# Aggregate transactions by item_id by mean for a particular customer\n",
    "transactions1 = pd.pivot_table(cust_tran, index = \"item_id\", \n",
    "               values=['customer_id','quantity','selling_price', 'other_discount','coupon_discount','coupon_used'],\n",
    "               aggfunc={'customer_id':lambda x: len(set(x)),\n",
    "                        'quantity':np.mean,\n",
    "                        'selling_price':np.mean,\n",
    "                        'other_discount':np.mean,\n",
    "                        'coupon_discount':np.mean,\n",
    "                        'coupon_used': np.sum\n",
    "                        } )\n",
    "transactions1.reset_index(inplace=True)\n",
    "transactions1.rename(columns={'customer_id': 'no_of_customers'}, inplace=True)"
   ]
  },
  {
   "cell_type": "code",
   "execution_count": 391,
   "id": "c0379008",
   "metadata": {},
   "outputs": [
    {
     "data": {
      "text/html": [
       "<div>\n",
       "<style scoped>\n",
       "    .dataframe tbody tr th:only-of-type {\n",
       "        vertical-align: middle;\n",
       "    }\n",
       "\n",
       "    .dataframe tbody tr th {\n",
       "        vertical-align: top;\n",
       "    }\n",
       "\n",
       "    .dataframe thead th {\n",
       "        text-align: right;\n",
       "    }\n",
       "</style>\n",
       "<table border=\"1\" class=\"dataframe\">\n",
       "  <thead>\n",
       "    <tr style=\"text-align: right;\">\n",
       "      <th></th>\n",
       "      <th>item_id</th>\n",
       "      <th>coupon_discount</th>\n",
       "      <th>coupon_used</th>\n",
       "      <th>no_of_customers</th>\n",
       "      <th>other_discount</th>\n",
       "      <th>quantity</th>\n",
       "      <th>selling_price</th>\n",
       "    </tr>\n",
       "  </thead>\n",
       "  <tbody>\n",
       "    <tr>\n",
       "      <th>0</th>\n",
       "      <td>1</td>\n",
       "      <td>0.0</td>\n",
       "      <td>0</td>\n",
       "      <td>2</td>\n",
       "      <td>0.0</td>\n",
       "      <td>1.0</td>\n",
       "      <td>124.31</td>\n",
       "    </tr>\n",
       "    <tr>\n",
       "      <th>1</th>\n",
       "      <td>2</td>\n",
       "      <td>0.0</td>\n",
       "      <td>0</td>\n",
       "      <td>1</td>\n",
       "      <td>0.0</td>\n",
       "      <td>1.0</td>\n",
       "      <td>35.26</td>\n",
       "    </tr>\n",
       "    <tr>\n",
       "      <th>2</th>\n",
       "      <td>3</td>\n",
       "      <td>0.0</td>\n",
       "      <td>0</td>\n",
       "      <td>1</td>\n",
       "      <td>0.0</td>\n",
       "      <td>1.0</td>\n",
       "      <td>56.64</td>\n",
       "    </tr>\n",
       "    <tr>\n",
       "      <th>3</th>\n",
       "      <td>4</td>\n",
       "      <td>0.0</td>\n",
       "      <td>0</td>\n",
       "      <td>1</td>\n",
       "      <td>0.0</td>\n",
       "      <td>1.0</td>\n",
       "      <td>54.85</td>\n",
       "    </tr>\n",
       "    <tr>\n",
       "      <th>4</th>\n",
       "      <td>5</td>\n",
       "      <td>0.0</td>\n",
       "      <td>0</td>\n",
       "      <td>1</td>\n",
       "      <td>0.0</td>\n",
       "      <td>1.0</td>\n",
       "      <td>81.57</td>\n",
       "    </tr>\n",
       "  </tbody>\n",
       "</table>\n",
       "</div>"
      ],
      "text/plain": [
       "   item_id  coupon_discount  coupon_used  no_of_customers  other_discount  \\\n",
       "0        1              0.0            0                2             0.0   \n",
       "1        2              0.0            0                1             0.0   \n",
       "2        3              0.0            0                1             0.0   \n",
       "3        4              0.0            0                1             0.0   \n",
       "4        5              0.0            0                1             0.0   \n",
       "\n",
       "   quantity  selling_price  \n",
       "0       1.0         124.31  \n",
       "1       1.0          35.26  \n",
       "2       1.0          56.64  \n",
       "3       1.0          54.85  \n",
       "4       1.0          81.57  "
      ]
     },
     "execution_count": 391,
     "metadata": {},
     "output_type": "execute_result"
    }
   ],
   "source": [
    "transactions1.head()"
   ]
  },
  {
   "cell_type": "code",
   "execution_count": 392,
   "id": "16702019",
   "metadata": {},
   "outputs": [],
   "source": [
    "# Aggregate transactions by item_id by sum for a particular customer\n",
    "transactions2 = pd.pivot_table(cust_tran, index = \"item_id\", \n",
    "               values=['customer_id','quantity','selling_price', 'other_discount','coupon_discount'],\n",
    "               aggfunc={'customer_id':len,\n",
    "                        'quantity':np.sum,\n",
    "                        'selling_price':np.sum,\n",
    "                        'other_discount':np.sum,\n",
    "                        'coupon_discount':np.sum,\n",
    "                        } )\n",
    "transactions2.reset_index(inplace=True)\n",
    "transactions2.rename(columns={'customer_id': 't_counts', 'quantity':'qu_sum',\n",
    "                             'selling_price':'price_sum', 'other_discount':'od_sum',\n",
    "                             'coupon_discount':'cd_sum'}, inplace=True)"
   ]
  },
  {
   "cell_type": "code",
   "execution_count": 393,
   "id": "ddd9f02d",
   "metadata": {},
   "outputs": [
    {
     "data": {
      "text/html": [
       "<div>\n",
       "<style scoped>\n",
       "    .dataframe tbody tr th:only-of-type {\n",
       "        vertical-align: middle;\n",
       "    }\n",
       "\n",
       "    .dataframe tbody tr th {\n",
       "        vertical-align: top;\n",
       "    }\n",
       "\n",
       "    .dataframe thead th {\n",
       "        text-align: right;\n",
       "    }\n",
       "</style>\n",
       "<table border=\"1\" class=\"dataframe\">\n",
       "  <thead>\n",
       "    <tr style=\"text-align: right;\">\n",
       "      <th></th>\n",
       "      <th>item_id</th>\n",
       "      <th>cd_sum</th>\n",
       "      <th>t_counts</th>\n",
       "      <th>od_sum</th>\n",
       "      <th>qu_sum</th>\n",
       "      <th>price_sum</th>\n",
       "    </tr>\n",
       "  </thead>\n",
       "  <tbody>\n",
       "    <tr>\n",
       "      <th>0</th>\n",
       "      <td>1</td>\n",
       "      <td>0.0</td>\n",
       "      <td>2</td>\n",
       "      <td>0.0</td>\n",
       "      <td>2</td>\n",
       "      <td>248.62</td>\n",
       "    </tr>\n",
       "    <tr>\n",
       "      <th>1</th>\n",
       "      <td>2</td>\n",
       "      <td>0.0</td>\n",
       "      <td>1</td>\n",
       "      <td>0.0</td>\n",
       "      <td>1</td>\n",
       "      <td>35.26</td>\n",
       "    </tr>\n",
       "    <tr>\n",
       "      <th>2</th>\n",
       "      <td>3</td>\n",
       "      <td>0.0</td>\n",
       "      <td>1</td>\n",
       "      <td>0.0</td>\n",
       "      <td>1</td>\n",
       "      <td>56.64</td>\n",
       "    </tr>\n",
       "    <tr>\n",
       "      <th>3</th>\n",
       "      <td>4</td>\n",
       "      <td>0.0</td>\n",
       "      <td>1</td>\n",
       "      <td>0.0</td>\n",
       "      <td>1</td>\n",
       "      <td>54.85</td>\n",
       "    </tr>\n",
       "    <tr>\n",
       "      <th>4</th>\n",
       "      <td>5</td>\n",
       "      <td>0.0</td>\n",
       "      <td>1</td>\n",
       "      <td>0.0</td>\n",
       "      <td>1</td>\n",
       "      <td>81.57</td>\n",
       "    </tr>\n",
       "  </tbody>\n",
       "</table>\n",
       "</div>"
      ],
      "text/plain": [
       "   item_id  cd_sum  t_counts  od_sum  qu_sum  price_sum\n",
       "0        1     0.0         2     0.0       2     248.62\n",
       "1        2     0.0         1     0.0       1      35.26\n",
       "2        3     0.0         1     0.0       1      56.64\n",
       "3        4     0.0         1     0.0       1      54.85\n",
       "4        5     0.0         1     0.0       1      81.57"
      ]
     },
     "execution_count": 393,
     "metadata": {},
     "output_type": "execute_result"
    }
   ],
   "source": [
    "transactions2.head()"
   ]
  },
  {
   "cell_type": "code",
   "execution_count": 394,
   "id": "cd6d494a",
   "metadata": {},
   "outputs": [],
   "source": [
    "transactions1 = pd.merge(transactions1, transactions2, on='item_id',how='left' )"
   ]
  },
  {
   "cell_type": "code",
   "execution_count": 395,
   "id": "395549f9",
   "metadata": {},
   "outputs": [
    {
     "data": {
      "text/html": [
       "<div>\n",
       "<style scoped>\n",
       "    .dataframe tbody tr th:only-of-type {\n",
       "        vertical-align: middle;\n",
       "    }\n",
       "\n",
       "    .dataframe tbody tr th {\n",
       "        vertical-align: top;\n",
       "    }\n",
       "\n",
       "    .dataframe thead th {\n",
       "        text-align: right;\n",
       "    }\n",
       "</style>\n",
       "<table border=\"1\" class=\"dataframe\">\n",
       "  <thead>\n",
       "    <tr style=\"text-align: right;\">\n",
       "      <th></th>\n",
       "      <th>item_id</th>\n",
       "      <th>coupon_discount</th>\n",
       "      <th>coupon_used</th>\n",
       "      <th>no_of_customers</th>\n",
       "      <th>other_discount</th>\n",
       "      <th>quantity</th>\n",
       "      <th>selling_price</th>\n",
       "      <th>cd_sum</th>\n",
       "      <th>t_counts</th>\n",
       "      <th>od_sum</th>\n",
       "      <th>qu_sum</th>\n",
       "      <th>price_sum</th>\n",
       "      <th>total_discount_mean</th>\n",
       "      <th>total_discount_sum</th>\n",
       "    </tr>\n",
       "  </thead>\n",
       "  <tbody>\n",
       "    <tr>\n",
       "      <th>0</th>\n",
       "      <td>1</td>\n",
       "      <td>0.0</td>\n",
       "      <td>0</td>\n",
       "      <td>2</td>\n",
       "      <td>0.0</td>\n",
       "      <td>1.0</td>\n",
       "      <td>124.31</td>\n",
       "      <td>0.0</td>\n",
       "      <td>2</td>\n",
       "      <td>0.0</td>\n",
       "      <td>2</td>\n",
       "      <td>248.62</td>\n",
       "      <td>0.0</td>\n",
       "      <td>0.0</td>\n",
       "    </tr>\n",
       "    <tr>\n",
       "      <th>1</th>\n",
       "      <td>2</td>\n",
       "      <td>0.0</td>\n",
       "      <td>0</td>\n",
       "      <td>1</td>\n",
       "      <td>0.0</td>\n",
       "      <td>1.0</td>\n",
       "      <td>35.26</td>\n",
       "      <td>0.0</td>\n",
       "      <td>1</td>\n",
       "      <td>0.0</td>\n",
       "      <td>1</td>\n",
       "      <td>35.26</td>\n",
       "      <td>0.0</td>\n",
       "      <td>0.0</td>\n",
       "    </tr>\n",
       "    <tr>\n",
       "      <th>2</th>\n",
       "      <td>3</td>\n",
       "      <td>0.0</td>\n",
       "      <td>0</td>\n",
       "      <td>1</td>\n",
       "      <td>0.0</td>\n",
       "      <td>1.0</td>\n",
       "      <td>56.64</td>\n",
       "      <td>0.0</td>\n",
       "      <td>1</td>\n",
       "      <td>0.0</td>\n",
       "      <td>1</td>\n",
       "      <td>56.64</td>\n",
       "      <td>0.0</td>\n",
       "      <td>0.0</td>\n",
       "    </tr>\n",
       "    <tr>\n",
       "      <th>3</th>\n",
       "      <td>4</td>\n",
       "      <td>0.0</td>\n",
       "      <td>0</td>\n",
       "      <td>1</td>\n",
       "      <td>0.0</td>\n",
       "      <td>1.0</td>\n",
       "      <td>54.85</td>\n",
       "      <td>0.0</td>\n",
       "      <td>1</td>\n",
       "      <td>0.0</td>\n",
       "      <td>1</td>\n",
       "      <td>54.85</td>\n",
       "      <td>0.0</td>\n",
       "      <td>0.0</td>\n",
       "    </tr>\n",
       "    <tr>\n",
       "      <th>4</th>\n",
       "      <td>5</td>\n",
       "      <td>0.0</td>\n",
       "      <td>0</td>\n",
       "      <td>1</td>\n",
       "      <td>0.0</td>\n",
       "      <td>1.0</td>\n",
       "      <td>81.57</td>\n",
       "      <td>0.0</td>\n",
       "      <td>1</td>\n",
       "      <td>0.0</td>\n",
       "      <td>1</td>\n",
       "      <td>81.57</td>\n",
       "      <td>0.0</td>\n",
       "      <td>0.0</td>\n",
       "    </tr>\n",
       "  </tbody>\n",
       "</table>\n",
       "</div>"
      ],
      "text/plain": [
       "   item_id  coupon_discount  coupon_used  no_of_customers  other_discount  \\\n",
       "0        1              0.0            0                2             0.0   \n",
       "1        2              0.0            0                1             0.0   \n",
       "2        3              0.0            0                1             0.0   \n",
       "3        4              0.0            0                1             0.0   \n",
       "4        5              0.0            0                1             0.0   \n",
       "\n",
       "   quantity  selling_price  cd_sum  t_counts  od_sum  qu_sum  price_sum  \\\n",
       "0       1.0         124.31     0.0         2     0.0       2     248.62   \n",
       "1       1.0          35.26     0.0         1     0.0       1      35.26   \n",
       "2       1.0          56.64     0.0         1     0.0       1      56.64   \n",
       "3       1.0          54.85     0.0         1     0.0       1      54.85   \n",
       "4       1.0          81.57     0.0         1     0.0       1      81.57   \n",
       "\n",
       "   total_discount_mean  total_discount_sum  \n",
       "0                  0.0                 0.0  \n",
       "1                  0.0                 0.0  \n",
       "2                  0.0                 0.0  \n",
       "3                  0.0                 0.0  \n",
       "4                  0.0                 0.0  "
      ]
     },
     "execution_count": 395,
     "metadata": {},
     "output_type": "execute_result"
    }
   ],
   "source": [
    "transactions1['total_discount_mean'] = transactions1['coupon_discount'] + transactions1['other_discount']\n",
    "transactions1['total_discount_sum'] = transactions1['od_sum'] + transactions1['cd_sum']\n",
    "transactions1.head()"
   ]
  },
  {
   "cell_type": "markdown",
   "id": "6acda803",
   "metadata": {},
   "source": [
    "Merge coupon_items and transaction1 on 'item_id'"
   ]
  },
  {
   "cell_type": "code",
   "execution_count": 396,
   "id": "c2f82aca",
   "metadata": {},
   "outputs": [],
   "source": [
    "item_coupon_trans = pd.merge(coupons_items, transactions1, on='item_id', how='left')"
   ]
  },
  {
   "cell_type": "code",
   "execution_count": 397,
   "id": "dc45d668",
   "metadata": {},
   "outputs": [
    {
     "data": {
      "text/html": [
       "<div>\n",
       "<style scoped>\n",
       "    .dataframe tbody tr th:only-of-type {\n",
       "        vertical-align: middle;\n",
       "    }\n",
       "\n",
       "    .dataframe tbody tr th {\n",
       "        vertical-align: top;\n",
       "    }\n",
       "\n",
       "    .dataframe thead th {\n",
       "        text-align: right;\n",
       "    }\n",
       "</style>\n",
       "<table border=\"1\" class=\"dataframe\">\n",
       "  <thead>\n",
       "    <tr style=\"text-align: right;\">\n",
       "      <th></th>\n",
       "      <th>coupon_id</th>\n",
       "      <th>item_id</th>\n",
       "      <th>brand</th>\n",
       "      <th>brand_type</th>\n",
       "      <th>category</th>\n",
       "      <th>coupon_discount</th>\n",
       "      <th>coupon_used</th>\n",
       "      <th>no_of_customers</th>\n",
       "      <th>other_discount</th>\n",
       "      <th>quantity</th>\n",
       "      <th>selling_price</th>\n",
       "      <th>cd_sum</th>\n",
       "      <th>t_counts</th>\n",
       "      <th>od_sum</th>\n",
       "      <th>qu_sum</th>\n",
       "      <th>price_sum</th>\n",
       "      <th>total_discount_mean</th>\n",
       "      <th>total_discount_sum</th>\n",
       "    </tr>\n",
       "  </thead>\n",
       "  <tbody>\n",
       "    <tr>\n",
       "      <th>0</th>\n",
       "      <td>105</td>\n",
       "      <td>37</td>\n",
       "      <td>56</td>\n",
       "      <td>1</td>\n",
       "      <td>6</td>\n",
       "      <td>0.0</td>\n",
       "      <td>0.0</td>\n",
       "      <td>2.0</td>\n",
       "      <td>-8.108333</td>\n",
       "      <td>2.285714</td>\n",
       "      <td>57.247381</td>\n",
       "      <td>0.0</td>\n",
       "      <td>7.0</td>\n",
       "      <td>-56.758333</td>\n",
       "      <td>16.0</td>\n",
       "      <td>400.731667</td>\n",
       "      <td>-8.108333</td>\n",
       "      <td>-56.758333</td>\n",
       "    </tr>\n",
       "    <tr>\n",
       "      <th>1</th>\n",
       "      <td>107</td>\n",
       "      <td>75</td>\n",
       "      <td>56</td>\n",
       "      <td>1</td>\n",
       "      <td>6</td>\n",
       "      <td>0.0</td>\n",
       "      <td>0.0</td>\n",
       "      <td>4.0</td>\n",
       "      <td>-2.633712</td>\n",
       "      <td>1.363636</td>\n",
       "      <td>38.828485</td>\n",
       "      <td>0.0</td>\n",
       "      <td>33.0</td>\n",
       "      <td>-86.912500</td>\n",
       "      <td>45.0</td>\n",
       "      <td>1281.340000</td>\n",
       "      <td>-2.633712</td>\n",
       "      <td>-86.912500</td>\n",
       "    </tr>\n",
       "    <tr>\n",
       "      <th>2</th>\n",
       "      <td>494</td>\n",
       "      <td>76</td>\n",
       "      <td>209</td>\n",
       "      <td>0</td>\n",
       "      <td>6</td>\n",
       "      <td>0.0</td>\n",
       "      <td>0.0</td>\n",
       "      <td>1.0</td>\n",
       "      <td>-17.450000</td>\n",
       "      <td>1.000000</td>\n",
       "      <td>106.500000</td>\n",
       "      <td>0.0</td>\n",
       "      <td>1.0</td>\n",
       "      <td>-17.450000</td>\n",
       "      <td>1.0</td>\n",
       "      <td>106.500000</td>\n",
       "      <td>-17.450000</td>\n",
       "      <td>-17.450000</td>\n",
       "    </tr>\n",
       "    <tr>\n",
       "      <th>3</th>\n",
       "      <td>522</td>\n",
       "      <td>77</td>\n",
       "      <td>278</td>\n",
       "      <td>0</td>\n",
       "      <td>6</td>\n",
       "      <td>0.0</td>\n",
       "      <td>0.0</td>\n",
       "      <td>2.0</td>\n",
       "      <td>-16.920000</td>\n",
       "      <td>1.000000</td>\n",
       "      <td>87.270000</td>\n",
       "      <td>0.0</td>\n",
       "      <td>2.0</td>\n",
       "      <td>-33.840000</td>\n",
       "      <td>2.0</td>\n",
       "      <td>174.540000</td>\n",
       "      <td>-16.920000</td>\n",
       "      <td>-33.840000</td>\n",
       "    </tr>\n",
       "    <tr>\n",
       "      <th>4</th>\n",
       "      <td>518</td>\n",
       "      <td>77</td>\n",
       "      <td>278</td>\n",
       "      <td>0</td>\n",
       "      <td>6</td>\n",
       "      <td>0.0</td>\n",
       "      <td>0.0</td>\n",
       "      <td>2.0</td>\n",
       "      <td>-16.920000</td>\n",
       "      <td>1.000000</td>\n",
       "      <td>87.270000</td>\n",
       "      <td>0.0</td>\n",
       "      <td>2.0</td>\n",
       "      <td>-33.840000</td>\n",
       "      <td>2.0</td>\n",
       "      <td>174.540000</td>\n",
       "      <td>-16.920000</td>\n",
       "      <td>-33.840000</td>\n",
       "    </tr>\n",
       "  </tbody>\n",
       "</table>\n",
       "</div>"
      ],
      "text/plain": [
       "   coupon_id  item_id  brand  brand_type  category  coupon_discount  \\\n",
       "0        105       37     56           1         6              0.0   \n",
       "1        107       75     56           1         6              0.0   \n",
       "2        494       76    209           0         6              0.0   \n",
       "3        522       77    278           0         6              0.0   \n",
       "4        518       77    278           0         6              0.0   \n",
       "\n",
       "   coupon_used  no_of_customers  other_discount  quantity  selling_price  \\\n",
       "0          0.0              2.0       -8.108333  2.285714      57.247381   \n",
       "1          0.0              4.0       -2.633712  1.363636      38.828485   \n",
       "2          0.0              1.0      -17.450000  1.000000     106.500000   \n",
       "3          0.0              2.0      -16.920000  1.000000      87.270000   \n",
       "4          0.0              2.0      -16.920000  1.000000      87.270000   \n",
       "\n",
       "   cd_sum  t_counts     od_sum  qu_sum    price_sum  total_discount_mean  \\\n",
       "0     0.0       7.0 -56.758333    16.0   400.731667            -8.108333   \n",
       "1     0.0      33.0 -86.912500    45.0  1281.340000            -2.633712   \n",
       "2     0.0       1.0 -17.450000     1.0   106.500000           -17.450000   \n",
       "3     0.0       2.0 -33.840000     2.0   174.540000           -16.920000   \n",
       "4     0.0       2.0 -33.840000     2.0   174.540000           -16.920000   \n",
       "\n",
       "   total_discount_sum  \n",
       "0          -56.758333  \n",
       "1          -86.912500  \n",
       "2          -17.450000  \n",
       "3          -33.840000  \n",
       "4          -33.840000  "
      ]
     },
     "execution_count": 397,
     "metadata": {},
     "output_type": "execute_result"
    }
   ],
   "source": [
    "item_coupon_trans.head()"
   ]
  },
  {
   "cell_type": "markdown",
   "id": "b8a0323e",
   "metadata": {},
   "source": [
    "Now Aggregating item_coupon_trans on 'coupon_id'|\n"
   ]
  },
  {
   "cell_type": "code",
   "execution_count": 398,
   "id": "95e603c2",
   "metadata": {},
   "outputs": [],
   "source": [
    "coupon = pd.pivot_table(item_coupon_trans, index =\"coupon_id\",\n",
    "                         values=[ 'item_id', 'brand', 'brand_type', 'category',\n",
    "       'coupon_discount', 'coupon_used', 'no_of_customers', 'other_discount',\n",
    "       'quantity', 'selling_price', 'cd_sum', 't_counts', 'od_sum', 'qu_sum',\n",
    "       'price_sum', 'total_discount_mean', 'total_discount_sum'],\n",
    "              aggfunc={'item_id':lambda x: len(set(x)),\n",
    "                       'brand':lambda x: mode(x)[0][0],\n",
    "                       'brand_type':lambda x: mode(x)[0][0],\n",
    "                       'category':lambda x: mode(x)[0][0],\n",
    "                       'coupon_discount':np.mean,\n",
    "                       'no_of_customers':np.mean,\n",
    "                       'other_discount':np.mean,\n",
    "                       'quantity':np.mean,\n",
    "                       'selling_price':np.mean,\n",
    "                      'coupon_used': np.sum,\n",
    "                       'cd_sum': np.sum,\n",
    "                       't_counts': np.sum,\n",
    "                       'od_sum': np.sum,\n",
    "                       'qu_sum': np.sum,\n",
    "                       'price_sum': np.sum,\n",
    "                       'total_discount_mean': np.mean,\n",
    "                       'total_discount_sum': np.sum\n",
    "                      })\n",
    "coupon.reset_index(inplace=True)"
   ]
  },
  {
   "cell_type": "code",
   "execution_count": 399,
   "id": "b2408029",
   "metadata": {},
   "outputs": [],
   "source": [
    "coupon.rename(columns={'item_id':'item_counts'}, inplace=True)"
   ]
  },
  {
   "cell_type": "markdown",
   "id": "c62f80a6",
   "metadata": {},
   "source": [
    "Aggregating cust_trans on 'coupon_id'"
   ]
  },
  {
   "cell_type": "code",
   "execution_count": 400,
   "id": "465fc0a3",
   "metadata": {},
   "outputs": [
    {
     "data": {
      "text/html": [
       "<div>\n",
       "<style scoped>\n",
       "    .dataframe tbody tr th:only-of-type {\n",
       "        vertical-align: middle;\n",
       "    }\n",
       "\n",
       "    .dataframe tbody tr th {\n",
       "        vertical-align: top;\n",
       "    }\n",
       "\n",
       "    .dataframe thead th {\n",
       "        text-align: right;\n",
       "    }\n",
       "</style>\n",
       "<table border=\"1\" class=\"dataframe\">\n",
       "  <thead>\n",
       "    <tr style=\"text-align: right;\">\n",
       "      <th></th>\n",
       "      <th>customer_id</th>\n",
       "      <th>coupon_discount</th>\n",
       "      <th>coupon_used</th>\n",
       "      <th>day</th>\n",
       "      <th>dow</th>\n",
       "      <th>no_of_items</th>\n",
       "      <th>month</th>\n",
       "      <th>other_discount</th>\n",
       "      <th>quantity</th>\n",
       "      <th>selling_price</th>\n",
       "    </tr>\n",
       "  </thead>\n",
       "  <tbody>\n",
       "    <tr>\n",
       "      <th>0</th>\n",
       "      <td>1</td>\n",
       "      <td>-2.019876</td>\n",
       "      <td>78</td>\n",
       "      <td>3</td>\n",
       "      <td>3</td>\n",
       "      <td>463</td>\n",
       "      <td>5</td>\n",
       "      <td>-12.837537</td>\n",
       "      <td>1.170802</td>\n",
       "      <td>97.470480</td>\n",
       "    </tr>\n",
       "    <tr>\n",
       "      <th>1</th>\n",
       "      <td>2</td>\n",
       "      <td>-0.595084</td>\n",
       "      <td>4</td>\n",
       "      <td>13</td>\n",
       "      <td>5</td>\n",
       "      <td>352</td>\n",
       "      <td>6</td>\n",
       "      <td>-13.432195</td>\n",
       "      <td>1.131265</td>\n",
       "      <td>107.805783</td>\n",
       "    </tr>\n",
       "    <tr>\n",
       "      <th>2</th>\n",
       "      <td>3</td>\n",
       "      <td>-3.091546</td>\n",
       "      <td>53</td>\n",
       "      <td>16</td>\n",
       "      <td>4</td>\n",
       "      <td>406</td>\n",
       "      <td>7</td>\n",
       "      <td>-14.074853</td>\n",
       "      <td>11.578723</td>\n",
       "      <td>85.082452</td>\n",
       "    </tr>\n",
       "    <tr>\n",
       "      <th>3</th>\n",
       "      <td>4</td>\n",
       "      <td>-0.404773</td>\n",
       "      <td>1</td>\n",
       "      <td>14</td>\n",
       "      <td>5</td>\n",
       "      <td>125</td>\n",
       "      <td>5</td>\n",
       "      <td>-8.883656</td>\n",
       "      <td>1.272727</td>\n",
       "      <td>138.256770</td>\n",
       "    </tr>\n",
       "    <tr>\n",
       "      <th>4</th>\n",
       "      <td>5</td>\n",
       "      <td>-0.114684</td>\n",
       "      <td>2</td>\n",
       "      <td>11</td>\n",
       "      <td>1</td>\n",
       "      <td>490</td>\n",
       "      <td>5</td>\n",
       "      <td>-11.260696</td>\n",
       "      <td>117.869949</td>\n",
       "      <td>115.482842</td>\n",
       "    </tr>\n",
       "  </tbody>\n",
       "</table>\n",
       "</div>"
      ],
      "text/plain": [
       "   customer_id  coupon_discount  coupon_used  day  dow  no_of_items  month  \\\n",
       "0            1        -2.019876           78    3    3          463      5   \n",
       "1            2        -0.595084            4   13    5          352      6   \n",
       "2            3        -3.091546           53   16    4          406      7   \n",
       "3            4        -0.404773            1   14    5          125      5   \n",
       "4            5        -0.114684            2   11    1          490      5   \n",
       "\n",
       "   other_discount    quantity  selling_price  \n",
       "0      -12.837537    1.170802      97.470480  \n",
       "1      -13.432195    1.131265     107.805783  \n",
       "2      -14.074853   11.578723      85.082452  \n",
       "3       -8.883656    1.272727     138.256770  \n",
       "4      -11.260696  117.869949     115.482842  "
      ]
     },
     "execution_count": 400,
     "metadata": {},
     "output_type": "execute_result"
    }
   ],
   "source": [
    "# Aggregate transactions by customer_id\n",
    "transactions3 = pd.pivot_table(cust_tran, index = \"customer_id\", \n",
    "               values=['item_id','quantity','selling_price', 'other_discount','coupon_discount','coupon_used','day','dow','month'],\n",
    "               aggfunc={'item_id':lambda x: len(set(x)),\n",
    "                        'quantity':np.mean,\n",
    "                        'selling_price':np.mean,\n",
    "                        'other_discount':np.mean,\n",
    "                        'coupon_discount':np.mean,\n",
    "                        'coupon_used': np.sum,\n",
    "                        'day':lambda x: mode(x)[0][0],\n",
    "                        'dow':lambda x: mode(x)[0][0],\n",
    "                        'month':lambda x: mode(x)[0][0]}\n",
    "              )\n",
    "transactions3.reset_index(inplace=True)\n",
    "transactions3.rename(columns={'item_id': 'no_of_items'}, inplace=True)\n",
    "transactions3.head()"
   ]
  },
  {
   "cell_type": "code",
   "execution_count": 401,
   "id": "f245f654",
   "metadata": {},
   "outputs": [
    {
     "data": {
      "text/html": [
       "<div>\n",
       "<style scoped>\n",
       "    .dataframe tbody tr th:only-of-type {\n",
       "        vertical-align: middle;\n",
       "    }\n",
       "\n",
       "    .dataframe tbody tr th {\n",
       "        vertical-align: top;\n",
       "    }\n",
       "\n",
       "    .dataframe thead th {\n",
       "        text-align: right;\n",
       "    }\n",
       "</style>\n",
       "<table border=\"1\" class=\"dataframe\">\n",
       "  <thead>\n",
       "    <tr style=\"text-align: right;\">\n",
       "      <th></th>\n",
       "      <th>customer_id</th>\n",
       "      <th>cdd_sum</th>\n",
       "      <th>customer_id_count</th>\n",
       "      <th>odd_sum</th>\n",
       "      <th>qa_sum</th>\n",
       "      <th>pprice_sum</th>\n",
       "    </tr>\n",
       "  </thead>\n",
       "  <tbody>\n",
       "    <tr>\n",
       "      <th>0</th>\n",
       "      <td>1</td>\n",
       "      <td>-2116.83</td>\n",
       "      <td>1048</td>\n",
       "      <td>-13453.738833</td>\n",
       "      <td>1227</td>\n",
       "      <td>102149.063000</td>\n",
       "    </tr>\n",
       "    <tr>\n",
       "      <th>1</th>\n",
       "      <td>2</td>\n",
       "      <td>-249.34</td>\n",
       "      <td>419</td>\n",
       "      <td>-5628.089833</td>\n",
       "      <td>474</td>\n",
       "      <td>45170.623167</td>\n",
       "    </tr>\n",
       "    <tr>\n",
       "      <th>2</th>\n",
       "      <td>3</td>\n",
       "      <td>-2179.54</td>\n",
       "      <td>705</td>\n",
       "      <td>-9922.771654</td>\n",
       "      <td>8163</td>\n",
       "      <td>59983.128347</td>\n",
       "    </tr>\n",
       "    <tr>\n",
       "      <th>3</th>\n",
       "      <td>4</td>\n",
       "      <td>-89.05</td>\n",
       "      <td>220</td>\n",
       "      <td>-1954.404333</td>\n",
       "      <td>280</td>\n",
       "      <td>30416.489333</td>\n",
       "    </tr>\n",
       "    <tr>\n",
       "      <th>4</th>\n",
       "      <td>5</td>\n",
       "      <td>-90.83</td>\n",
       "      <td>792</td>\n",
       "      <td>-8918.471477</td>\n",
       "      <td>93353</td>\n",
       "      <td>91462.410620</td>\n",
       "    </tr>\n",
       "  </tbody>\n",
       "</table>\n",
       "</div>"
      ],
      "text/plain": [
       "   customer_id  cdd_sum  customer_id_count       odd_sum  qa_sum  \\\n",
       "0            1 -2116.83               1048 -13453.738833    1227   \n",
       "1            2  -249.34                419  -5628.089833     474   \n",
       "2            3 -2179.54                705  -9922.771654    8163   \n",
       "3            4   -89.05                220  -1954.404333     280   \n",
       "4            5   -90.83                792  -8918.471477   93353   \n",
       "\n",
       "      pprice_sum  \n",
       "0  102149.063000  \n",
       "1   45170.623167  \n",
       "2   59983.128347  \n",
       "3   30416.489333  \n",
       "4   91462.410620  "
      ]
     },
     "execution_count": 401,
     "metadata": {},
     "output_type": "execute_result"
    }
   ],
   "source": [
    "# Aggregate transactions by customer_id by sum\n",
    "transactions4 = pd.pivot_table(cust_tran, index = \"customer_id\", \n",
    "               values=['item_id','quantity','selling_price', 'other_discount','coupon_discount'],\n",
    "               aggfunc={'item_id':len,\n",
    "                        'quantity':np.sum,\n",
    "                        'selling_price':np.sum,\n",
    "                        'other_discount':np.sum,\n",
    "                        'coupon_discount':np.sum}\n",
    "              )\n",
    "transactions4.reset_index(inplace=True)\n",
    "transactions4.rename(columns={'item_id': 'customer_id_count','quantity':'qa_sum','selling_price':'pprice_sum',\n",
    "                             'other_discount':'odd_sum','coupon_discount':'cdd_sum'  }, inplace=True)\n",
    "transactions4.head()"
   ]
  },
  {
   "cell_type": "code",
   "execution_count": 402,
   "id": "b223b500",
   "metadata": {},
   "outputs": [
    {
     "data": {
      "text/html": [
       "<div>\n",
       "<style scoped>\n",
       "    .dataframe tbody tr th:only-of-type {\n",
       "        vertical-align: middle;\n",
       "    }\n",
       "\n",
       "    .dataframe tbody tr th {\n",
       "        vertical-align: top;\n",
       "    }\n",
       "\n",
       "    .dataframe thead th {\n",
       "        text-align: right;\n",
       "    }\n",
       "</style>\n",
       "<table border=\"1\" class=\"dataframe\">\n",
       "  <thead>\n",
       "    <tr style=\"text-align: right;\">\n",
       "      <th></th>\n",
       "      <th>customer_id</th>\n",
       "      <th>coupon_discount</th>\n",
       "      <th>coupon_used</th>\n",
       "      <th>day</th>\n",
       "      <th>dow</th>\n",
       "      <th>no_of_items</th>\n",
       "      <th>month</th>\n",
       "      <th>other_discount</th>\n",
       "      <th>quantity</th>\n",
       "      <th>selling_price</th>\n",
       "      <th>cdd_sum</th>\n",
       "      <th>customer_id_count</th>\n",
       "      <th>odd_sum</th>\n",
       "      <th>qa_sum</th>\n",
       "      <th>pprice_sum</th>\n",
       "    </tr>\n",
       "  </thead>\n",
       "  <tbody>\n",
       "    <tr>\n",
       "      <th>0</th>\n",
       "      <td>1</td>\n",
       "      <td>-2.019876</td>\n",
       "      <td>78</td>\n",
       "      <td>3</td>\n",
       "      <td>3</td>\n",
       "      <td>463</td>\n",
       "      <td>5</td>\n",
       "      <td>-12.837537</td>\n",
       "      <td>1.170802</td>\n",
       "      <td>97.470480</td>\n",
       "      <td>-2116.83</td>\n",
       "      <td>1048</td>\n",
       "      <td>-13453.738833</td>\n",
       "      <td>1227</td>\n",
       "      <td>102149.063000</td>\n",
       "    </tr>\n",
       "    <tr>\n",
       "      <th>1</th>\n",
       "      <td>2</td>\n",
       "      <td>-0.595084</td>\n",
       "      <td>4</td>\n",
       "      <td>13</td>\n",
       "      <td>5</td>\n",
       "      <td>352</td>\n",
       "      <td>6</td>\n",
       "      <td>-13.432195</td>\n",
       "      <td>1.131265</td>\n",
       "      <td>107.805783</td>\n",
       "      <td>-249.34</td>\n",
       "      <td>419</td>\n",
       "      <td>-5628.089833</td>\n",
       "      <td>474</td>\n",
       "      <td>45170.623167</td>\n",
       "    </tr>\n",
       "    <tr>\n",
       "      <th>2</th>\n",
       "      <td>3</td>\n",
       "      <td>-3.091546</td>\n",
       "      <td>53</td>\n",
       "      <td>16</td>\n",
       "      <td>4</td>\n",
       "      <td>406</td>\n",
       "      <td>7</td>\n",
       "      <td>-14.074853</td>\n",
       "      <td>11.578723</td>\n",
       "      <td>85.082452</td>\n",
       "      <td>-2179.54</td>\n",
       "      <td>705</td>\n",
       "      <td>-9922.771654</td>\n",
       "      <td>8163</td>\n",
       "      <td>59983.128347</td>\n",
       "    </tr>\n",
       "    <tr>\n",
       "      <th>3</th>\n",
       "      <td>4</td>\n",
       "      <td>-0.404773</td>\n",
       "      <td>1</td>\n",
       "      <td>14</td>\n",
       "      <td>5</td>\n",
       "      <td>125</td>\n",
       "      <td>5</td>\n",
       "      <td>-8.883656</td>\n",
       "      <td>1.272727</td>\n",
       "      <td>138.256770</td>\n",
       "      <td>-89.05</td>\n",
       "      <td>220</td>\n",
       "      <td>-1954.404333</td>\n",
       "      <td>280</td>\n",
       "      <td>30416.489333</td>\n",
       "    </tr>\n",
       "    <tr>\n",
       "      <th>4</th>\n",
       "      <td>5</td>\n",
       "      <td>-0.114684</td>\n",
       "      <td>2</td>\n",
       "      <td>11</td>\n",
       "      <td>1</td>\n",
       "      <td>490</td>\n",
       "      <td>5</td>\n",
       "      <td>-11.260696</td>\n",
       "      <td>117.869949</td>\n",
       "      <td>115.482842</td>\n",
       "      <td>-90.83</td>\n",
       "      <td>792</td>\n",
       "      <td>-8918.471477</td>\n",
       "      <td>93353</td>\n",
       "      <td>91462.410620</td>\n",
       "    </tr>\n",
       "  </tbody>\n",
       "</table>\n",
       "</div>"
      ],
      "text/plain": [
       "   customer_id  coupon_discount  coupon_used  day  dow  no_of_items  month  \\\n",
       "0            1        -2.019876           78    3    3          463      5   \n",
       "1            2        -0.595084            4   13    5          352      6   \n",
       "2            3        -3.091546           53   16    4          406      7   \n",
       "3            4        -0.404773            1   14    5          125      5   \n",
       "4            5        -0.114684            2   11    1          490      5   \n",
       "\n",
       "   other_discount    quantity  selling_price  cdd_sum  customer_id_count  \\\n",
       "0      -12.837537    1.170802      97.470480 -2116.83               1048   \n",
       "1      -13.432195    1.131265     107.805783  -249.34                419   \n",
       "2      -14.074853   11.578723      85.082452 -2179.54                705   \n",
       "3       -8.883656    1.272727     138.256770   -89.05                220   \n",
       "4      -11.260696  117.869949     115.482842   -90.83                792   \n",
       "\n",
       "        odd_sum  qa_sum     pprice_sum  \n",
       "0 -13453.738833    1227  102149.063000  \n",
       "1  -5628.089833     474   45170.623167  \n",
       "2  -9922.771654    8163   59983.128347  \n",
       "3  -1954.404333     280   30416.489333  \n",
       "4  -8918.471477   93353   91462.410620  "
      ]
     },
     "execution_count": 402,
     "metadata": {},
     "output_type": "execute_result"
    }
   ],
   "source": [
    "transactions = pd.merge(transactions3, transactions4, on='customer_id', how='left')\n",
    "transactions.head()"
   ]
  },
  {
   "cell_type": "code",
   "execution_count": 403,
   "id": "22094bc2",
   "metadata": {},
   "outputs": [],
   "source": [
    "def merge_all(df): \n",
    "    df=  pd.merge(df, coupon, on=\"coupon_id\", how=\"left\")\n",
    "    df = pd.merge(df, campaign, on=\"campaign_id\", how=\"left\")\n",
    "    df = pd.merge(df, cust_demo, on=\"customer_id\", how=\"left\")\n",
    "    df = pd.merge(df, transactions, on='customer_id', how='left')\n",
    "    return df\n",
    "\n",
    "train = merge_all(train)\n",
    "test = merge_all(test)"
   ]
  },
  {
   "cell_type": "markdown",
   "id": "82ae0859",
   "metadata": {},
   "source": [
    "## Because of the merging, now the data may contain Nan values"
   ]
  },
  {
   "cell_type": "code",
   "execution_count": 404,
   "id": "87283e0a",
   "metadata": {},
   "outputs": [
    {
     "data": {
      "text/plain": [
       "id                         0\n",
       "campaign_id                0\n",
       "coupon_id                  0\n",
       "customer_id                0\n",
       "redemption_status          0\n",
       "brand                      0\n",
       "brand_type                 0\n",
       "category                   0\n",
       "cd_sum                     0\n",
       "coupon_discount_x          0\n",
       "coupon_used_x              0\n",
       "item_counts                0\n",
       "no_of_customers            0\n",
       "od_sum                     0\n",
       "other_discount_x           0\n",
       "price_sum                  0\n",
       "qu_sum                     0\n",
       "quantity_x                 0\n",
       "selling_price_x            0\n",
       "t_counts                   0\n",
       "total_discount_mean        0\n",
       "total_discount_sum         0\n",
       "campaign_type              0\n",
       "start_date                 0\n",
       "end_date                   0\n",
       "campaign_duration          0\n",
       "age_range              24400\n",
       "marital_status         24400\n",
       "rented                 24400\n",
       "family_size            24400\n",
       "no_of_children         24400\n",
       "income_bracket         24400\n",
       "coupon_discount_y          0\n",
       "coupon_used_y              0\n",
       "day                        0\n",
       "dow                        0\n",
       "no_of_items                0\n",
       "month                      0\n",
       "other_discount_y           0\n",
       "quantity_y                 0\n",
       "selling_price_y            0\n",
       "cdd_sum                    0\n",
       "customer_id_count          0\n",
       "odd_sum                    0\n",
       "qa_sum                     0\n",
       "pprice_sum                 0\n",
       "dtype: int64"
      ]
     },
     "execution_count": 404,
     "metadata": {},
     "output_type": "execute_result"
    }
   ],
   "source": [
    "train.isnull().sum()"
   ]
  },
  {
   "cell_type": "code",
   "execution_count": 405,
   "id": "bfd70507",
   "metadata": {},
   "outputs": [
    {
     "data": {
      "text/plain": [
       "id                         0\n",
       "campaign_id                0\n",
       "coupon_id                  0\n",
       "customer_id                0\n",
       "brand                      0\n",
       "brand_type                 0\n",
       "category                   0\n",
       "cd_sum                     0\n",
       "coupon_discount_x          0\n",
       "coupon_used_x              0\n",
       "item_counts                0\n",
       "no_of_customers            0\n",
       "od_sum                     0\n",
       "other_discount_x           0\n",
       "price_sum                  0\n",
       "qu_sum                     0\n",
       "quantity_x                 0\n",
       "selling_price_x            0\n",
       "t_counts                   0\n",
       "total_discount_mean        0\n",
       "total_discount_sum         0\n",
       "campaign_type              0\n",
       "start_date                 0\n",
       "end_date                   0\n",
       "campaign_duration          0\n",
       "age_range              10308\n",
       "marital_status         10308\n",
       "rented                 10308\n",
       "family_size            10308\n",
       "no_of_children         10308\n",
       "income_bracket         10308\n",
       "coupon_discount_y          0\n",
       "coupon_used_y              0\n",
       "day                        0\n",
       "dow                        0\n",
       "no_of_items                0\n",
       "month                      0\n",
       "other_discount_y           0\n",
       "quantity_y                 0\n",
       "selling_price_y            0\n",
       "cdd_sum                    0\n",
       "customer_id_count          0\n",
       "odd_sum                    0\n",
       "qa_sum                     0\n",
       "pprice_sum                 0\n",
       "dtype: int64"
      ]
     },
     "execution_count": 405,
     "metadata": {},
     "output_type": "execute_result"
    }
   ],
   "source": [
    "test.isnull().sum()"
   ]
  },
  {
   "cell_type": "markdown",
   "id": "b20e32be",
   "metadata": {},
   "source": [
    "We will replace the nan values with the mode of the respective columns"
   ]
  },
  {
   "cell_type": "code",
   "execution_count": 406,
   "id": "e1536a88",
   "metadata": {},
   "outputs": [],
   "source": [
    "def deal_na(df):\n",
    "    for col in cust_demo.columns.tolist()[1:]:\n",
    "        #print(col)\n",
    "        df[col].fillna(mode(df[col]).mode[0], inplace=True)\n",
    "    return df\n",
    "\n",
    "train = deal_na(train)\n",
    "test = deal_na(test)"
   ]
  },
  {
   "cell_type": "code",
   "execution_count": 407,
   "id": "d32a0273",
   "metadata": {},
   "outputs": [
    {
     "data": {
      "text/plain": [
       "id                     0\n",
       "campaign_id            0\n",
       "coupon_id              0\n",
       "customer_id            0\n",
       "redemption_status      0\n",
       "brand                  0\n",
       "brand_type             0\n",
       "category               0\n",
       "cd_sum                 0\n",
       "coupon_discount_x      0\n",
       "coupon_used_x          0\n",
       "item_counts            0\n",
       "no_of_customers        0\n",
       "od_sum                 0\n",
       "other_discount_x       0\n",
       "price_sum              0\n",
       "qu_sum                 0\n",
       "quantity_x             0\n",
       "selling_price_x        0\n",
       "t_counts               0\n",
       "total_discount_mean    0\n",
       "total_discount_sum     0\n",
       "campaign_type          0\n",
       "start_date             0\n",
       "end_date               0\n",
       "campaign_duration      0\n",
       "age_range              0\n",
       "marital_status         0\n",
       "rented                 0\n",
       "family_size            0\n",
       "no_of_children         0\n",
       "income_bracket         0\n",
       "coupon_discount_y      0\n",
       "coupon_used_y          0\n",
       "day                    0\n",
       "dow                    0\n",
       "no_of_items            0\n",
       "month                  0\n",
       "other_discount_y       0\n",
       "quantity_y             0\n",
       "selling_price_y        0\n",
       "cdd_sum                0\n",
       "customer_id_count      0\n",
       "odd_sum                0\n",
       "qa_sum                 0\n",
       "pprice_sum             0\n",
       "dtype: int64"
      ]
     },
     "execution_count": 407,
     "metadata": {},
     "output_type": "execute_result"
    }
   ],
   "source": [
    "train.isnull().sum()"
   ]
  },
  {
   "cell_type": "code",
   "execution_count": 408,
   "id": "d8d01581",
   "metadata": {},
   "outputs": [
    {
     "data": {
      "text/html": [
       "<div>\n",
       "<style scoped>\n",
       "    .dataframe tbody tr th:only-of-type {\n",
       "        vertical-align: middle;\n",
       "    }\n",
       "\n",
       "    .dataframe tbody tr th {\n",
       "        vertical-align: top;\n",
       "    }\n",
       "\n",
       "    .dataframe thead th {\n",
       "        text-align: right;\n",
       "    }\n",
       "</style>\n",
       "<table border=\"1\" class=\"dataframe\">\n",
       "  <thead>\n",
       "    <tr style=\"text-align: right;\">\n",
       "      <th></th>\n",
       "      <th>id</th>\n",
       "      <th>campaign_id</th>\n",
       "      <th>coupon_id</th>\n",
       "      <th>customer_id</th>\n",
       "      <th>redemption_status</th>\n",
       "      <th>brand</th>\n",
       "      <th>brand_type</th>\n",
       "      <th>category</th>\n",
       "      <th>cd_sum</th>\n",
       "      <th>coupon_discount_x</th>\n",
       "      <th>coupon_used_x</th>\n",
       "      <th>item_counts</th>\n",
       "      <th>no_of_customers</th>\n",
       "      <th>od_sum</th>\n",
       "      <th>other_discount_x</th>\n",
       "      <th>price_sum</th>\n",
       "      <th>qu_sum</th>\n",
       "      <th>quantity_x</th>\n",
       "      <th>selling_price_x</th>\n",
       "      <th>t_counts</th>\n",
       "      <th>total_discount_mean</th>\n",
       "      <th>total_discount_sum</th>\n",
       "      <th>campaign_type</th>\n",
       "      <th>start_date</th>\n",
       "      <th>end_date</th>\n",
       "      <th>campaign_duration</th>\n",
       "      <th>age_range</th>\n",
       "      <th>marital_status</th>\n",
       "      <th>rented</th>\n",
       "      <th>family_size</th>\n",
       "      <th>no_of_children</th>\n",
       "      <th>income_bracket</th>\n",
       "      <th>coupon_discount_y</th>\n",
       "      <th>coupon_used_y</th>\n",
       "      <th>day</th>\n",
       "      <th>dow</th>\n",
       "      <th>no_of_items</th>\n",
       "      <th>month</th>\n",
       "      <th>other_discount_y</th>\n",
       "      <th>quantity_y</th>\n",
       "      <th>selling_price_y</th>\n",
       "      <th>cdd_sum</th>\n",
       "      <th>customer_id_count</th>\n",
       "      <th>odd_sum</th>\n",
       "      <th>qa_sum</th>\n",
       "      <th>pprice_sum</th>\n",
       "    </tr>\n",
       "  </thead>\n",
       "  <tbody>\n",
       "    <tr>\n",
       "      <th>0</th>\n",
       "      <td>117578</td>\n",
       "      <td>8</td>\n",
       "      <td>725</td>\n",
       "      <td>45</td>\n",
       "      <td>0</td>\n",
       "      <td>782</td>\n",
       "      <td>0</td>\n",
       "      <td>6</td>\n",
       "      <td>-988.37</td>\n",
       "      <td>-0.19660</td>\n",
       "      <td>40.0</td>\n",
       "      <td>61</td>\n",
       "      <td>26.131148</td>\n",
       "      <td>-19784.642381</td>\n",
       "      <td>-10.411916</td>\n",
       "      <td>114337.103214</td>\n",
       "      <td>3091.0</td>\n",
       "      <td>1.619381</td>\n",
       "      <td>51.294837</td>\n",
       "      <td>2242.0</td>\n",
       "      <td>-10.608517</td>\n",
       "      <td>-20773.012381</td>\n",
       "      <td>0</td>\n",
       "      <td>2013-02-16</td>\n",
       "      <td>2013-04-05</td>\n",
       "      <td>48</td>\n",
       "      <td>3.0</td>\n",
       "      <td>0.0</td>\n",
       "      <td>0.0</td>\n",
       "      <td>5.0</td>\n",
       "      <td>3.0</td>\n",
       "      <td>1.0</td>\n",
       "      <td>-3.828976</td>\n",
       "      <td>163</td>\n",
       "      <td>14</td>\n",
       "      <td>6</td>\n",
       "      <td>728</td>\n",
       "      <td>5</td>\n",
       "      <td>-17.193689</td>\n",
       "      <td>109.359492</td>\n",
       "      <td>102.437225</td>\n",
       "      <td>-5123.17</td>\n",
       "      <td>1338</td>\n",
       "      <td>-23005.156191</td>\n",
       "      <td>146323</td>\n",
       "      <td>137061.007412</td>\n",
       "    </tr>\n",
       "    <tr>\n",
       "      <th>1</th>\n",
       "      <td>123337</td>\n",
       "      <td>29</td>\n",
       "      <td>265</td>\n",
       "      <td>334</td>\n",
       "      <td>0</td>\n",
       "      <td>4346</td>\n",
       "      <td>0</td>\n",
       "      <td>11</td>\n",
       "      <td>0.00</td>\n",
       "      <td>0.00000</td>\n",
       "      <td>0.0</td>\n",
       "      <td>6</td>\n",
       "      <td>14.666667</td>\n",
       "      <td>-1062.240000</td>\n",
       "      <td>-5.819918</td>\n",
       "      <td>29954.925000</td>\n",
       "      <td>119.0</td>\n",
       "      <td>1.018436</td>\n",
       "      <td>293.296096</td>\n",
       "      <td>116.0</td>\n",
       "      <td>-5.819918</td>\n",
       "      <td>-1062.240000</td>\n",
       "      <td>1</td>\n",
       "      <td>2012-10-08</td>\n",
       "      <td>2012-11-30</td>\n",
       "      <td>53</td>\n",
       "      <td>3.0</td>\n",
       "      <td>0.0</td>\n",
       "      <td>0.0</td>\n",
       "      <td>2.0</td>\n",
       "      <td>0.0</td>\n",
       "      <td>5.0</td>\n",
       "      <td>-1.258489</td>\n",
       "      <td>14</td>\n",
       "      <td>23</td>\n",
       "      <td>0</td>\n",
       "      <td>198</td>\n",
       "      <td>4</td>\n",
       "      <td>-17.416533</td>\n",
       "      <td>1.102222</td>\n",
       "      <td>107.546030</td>\n",
       "      <td>-283.16</td>\n",
       "      <td>225</td>\n",
       "      <td>-3918.720000</td>\n",
       "      <td>248</td>\n",
       "      <td>24197.856667</td>\n",
       "    </tr>\n",
       "    <tr>\n",
       "      <th>2</th>\n",
       "      <td>46642</td>\n",
       "      <td>13</td>\n",
       "      <td>281</td>\n",
       "      <td>408</td>\n",
       "      <td>0</td>\n",
       "      <td>4412</td>\n",
       "      <td>0</td>\n",
       "      <td>11</td>\n",
       "      <td>0.00</td>\n",
       "      <td>0.00000</td>\n",
       "      <td>0.0</td>\n",
       "      <td>2</td>\n",
       "      <td>1.000000</td>\n",
       "      <td>0.000000</td>\n",
       "      <td>0.000000</td>\n",
       "      <td>497.600000</td>\n",
       "      <td>3.0</td>\n",
       "      <td>1.000000</td>\n",
       "      <td>213.360000</td>\n",
       "      <td>3.0</td>\n",
       "      <td>0.000000</td>\n",
       "      <td>0.000000</td>\n",
       "      <td>0</td>\n",
       "      <td>2013-05-19</td>\n",
       "      <td>2013-07-05</td>\n",
       "      <td>47</td>\n",
       "      <td>3.0</td>\n",
       "      <td>0.0</td>\n",
       "      <td>0.0</td>\n",
       "      <td>2.0</td>\n",
       "      <td>0.0</td>\n",
       "      <td>5.0</td>\n",
       "      <td>-0.312835</td>\n",
       "      <td>4</td>\n",
       "      <td>2</td>\n",
       "      <td>4</td>\n",
       "      <td>396</td>\n",
       "      <td>11</td>\n",
       "      <td>-16.449504</td>\n",
       "      <td>10.222609</td>\n",
       "      <td>95.028796</td>\n",
       "      <td>-179.88</td>\n",
       "      <td>575</td>\n",
       "      <td>-9458.464672</td>\n",
       "      <td>5878</td>\n",
       "      <td>54641.557883</td>\n",
       "    </tr>\n",
       "    <tr>\n",
       "      <th>3</th>\n",
       "      <td>10510</td>\n",
       "      <td>13</td>\n",
       "      <td>625</td>\n",
       "      <td>577</td>\n",
       "      <td>0</td>\n",
       "      <td>524</td>\n",
       "      <td>0</td>\n",
       "      <td>6</td>\n",
       "      <td>-3661.71</td>\n",
       "      <td>-0.88054</td>\n",
       "      <td>113.0</td>\n",
       "      <td>92</td>\n",
       "      <td>19.597826</td>\n",
       "      <td>-63218.985000</td>\n",
       "      <td>-26.010323</td>\n",
       "      <td>292351.485000</td>\n",
       "      <td>3004.0</td>\n",
       "      <td>1.084111</td>\n",
       "      <td>116.620413</td>\n",
       "      <td>2687.0</td>\n",
       "      <td>-26.890863</td>\n",
       "      <td>-66880.695000</td>\n",
       "      <td>0</td>\n",
       "      <td>2013-05-19</td>\n",
       "      <td>2013-07-05</td>\n",
       "      <td>47</td>\n",
       "      <td>3.0</td>\n",
       "      <td>0.0</td>\n",
       "      <td>0.0</td>\n",
       "      <td>3.0</td>\n",
       "      <td>1.0</td>\n",
       "      <td>7.0</td>\n",
       "      <td>-0.358039</td>\n",
       "      <td>7</td>\n",
       "      <td>2</td>\n",
       "      <td>6</td>\n",
       "      <td>602</td>\n",
       "      <td>4</td>\n",
       "      <td>-13.371285</td>\n",
       "      <td>169.897833</td>\n",
       "      <td>95.950962</td>\n",
       "      <td>-346.94</td>\n",
       "      <td>969</td>\n",
       "      <td>-12956.775444</td>\n",
       "      <td>164631</td>\n",
       "      <td>92976.482180</td>\n",
       "    </tr>\n",
       "    <tr>\n",
       "      <th>4</th>\n",
       "      <td>14347</td>\n",
       "      <td>13</td>\n",
       "      <td>480</td>\n",
       "      <td>414</td>\n",
       "      <td>0</td>\n",
       "      <td>206</td>\n",
       "      <td>0</td>\n",
       "      <td>6</td>\n",
       "      <td>-142.48</td>\n",
       "      <td>-35.62000</td>\n",
       "      <td>2.0</td>\n",
       "      <td>1</td>\n",
       "      <td>3.000000</td>\n",
       "      <td>-106.860000</td>\n",
       "      <td>-26.715000</td>\n",
       "      <td>710.960000</td>\n",
       "      <td>4.0</td>\n",
       "      <td>1.000000</td>\n",
       "      <td>177.740000</td>\n",
       "      <td>4.0</td>\n",
       "      <td>-62.335000</td>\n",
       "      <td>-249.340000</td>\n",
       "      <td>0</td>\n",
       "      <td>2013-05-19</td>\n",
       "      <td>2013-07-05</td>\n",
       "      <td>47</td>\n",
       "      <td>5.0</td>\n",
       "      <td>0.0</td>\n",
       "      <td>0.0</td>\n",
       "      <td>2.0</td>\n",
       "      <td>0.0</td>\n",
       "      <td>6.0</td>\n",
       "      <td>-0.462473</td>\n",
       "      <td>15</td>\n",
       "      <td>20</td>\n",
       "      <td>2</td>\n",
       "      <td>566</td>\n",
       "      <td>4</td>\n",
       "      <td>-9.581597</td>\n",
       "      <td>122.129928</td>\n",
       "      <td>80.923498</td>\n",
       "      <td>-516.12</td>\n",
       "      <td>1116</td>\n",
       "      <td>-10693.062762</td>\n",
       "      <td>136297</td>\n",
       "      <td>90310.623318</td>\n",
       "    </tr>\n",
       "  </tbody>\n",
       "</table>\n",
       "</div>"
      ],
      "text/plain": [
       "       id  campaign_id  coupon_id  customer_id  redemption_status  brand  \\\n",
       "0  117578            8        725           45                  0    782   \n",
       "1  123337           29        265          334                  0   4346   \n",
       "2   46642           13        281          408                  0   4412   \n",
       "3   10510           13        625          577                  0    524   \n",
       "4   14347           13        480          414                  0    206   \n",
       "\n",
       "   brand_type  category   cd_sum  coupon_discount_x  coupon_used_x  \\\n",
       "0           0         6  -988.37           -0.19660           40.0   \n",
       "1           0        11     0.00            0.00000            0.0   \n",
       "2           0        11     0.00            0.00000            0.0   \n",
       "3           0         6 -3661.71           -0.88054          113.0   \n",
       "4           0         6  -142.48          -35.62000            2.0   \n",
       "\n",
       "   item_counts  no_of_customers        od_sum  other_discount_x  \\\n",
       "0           61        26.131148 -19784.642381        -10.411916   \n",
       "1            6        14.666667  -1062.240000         -5.819918   \n",
       "2            2         1.000000      0.000000          0.000000   \n",
       "3           92        19.597826 -63218.985000        -26.010323   \n",
       "4            1         3.000000   -106.860000        -26.715000   \n",
       "\n",
       "       price_sum  qu_sum  quantity_x  selling_price_x  t_counts  \\\n",
       "0  114337.103214  3091.0    1.619381        51.294837    2242.0   \n",
       "1   29954.925000   119.0    1.018436       293.296096     116.0   \n",
       "2     497.600000     3.0    1.000000       213.360000       3.0   \n",
       "3  292351.485000  3004.0    1.084111       116.620413    2687.0   \n",
       "4     710.960000     4.0    1.000000       177.740000       4.0   \n",
       "\n",
       "   total_discount_mean  total_discount_sum  campaign_type start_date  \\\n",
       "0           -10.608517       -20773.012381              0 2013-02-16   \n",
       "1            -5.819918        -1062.240000              1 2012-10-08   \n",
       "2             0.000000            0.000000              0 2013-05-19   \n",
       "3           -26.890863       -66880.695000              0 2013-05-19   \n",
       "4           -62.335000         -249.340000              0 2013-05-19   \n",
       "\n",
       "    end_date  campaign_duration  age_range  marital_status  rented  \\\n",
       "0 2013-04-05                 48        3.0             0.0     0.0   \n",
       "1 2012-11-30                 53        3.0             0.0     0.0   \n",
       "2 2013-07-05                 47        3.0             0.0     0.0   \n",
       "3 2013-07-05                 47        3.0             0.0     0.0   \n",
       "4 2013-07-05                 47        5.0             0.0     0.0   \n",
       "\n",
       "   family_size  no_of_children  income_bracket  coupon_discount_y  \\\n",
       "0          5.0             3.0             1.0          -3.828976   \n",
       "1          2.0             0.0             5.0          -1.258489   \n",
       "2          2.0             0.0             5.0          -0.312835   \n",
       "3          3.0             1.0             7.0          -0.358039   \n",
       "4          2.0             0.0             6.0          -0.462473   \n",
       "\n",
       "   coupon_used_y  day  dow  no_of_items  month  other_discount_y  quantity_y  \\\n",
       "0            163   14    6          728      5        -17.193689  109.359492   \n",
       "1             14   23    0          198      4        -17.416533    1.102222   \n",
       "2              4    2    4          396     11        -16.449504   10.222609   \n",
       "3              7    2    6          602      4        -13.371285  169.897833   \n",
       "4             15   20    2          566      4         -9.581597  122.129928   \n",
       "\n",
       "   selling_price_y  cdd_sum  customer_id_count       odd_sum  qa_sum  \\\n",
       "0       102.437225 -5123.17               1338 -23005.156191  146323   \n",
       "1       107.546030  -283.16                225  -3918.720000     248   \n",
       "2        95.028796  -179.88                575  -9458.464672    5878   \n",
       "3        95.950962  -346.94                969 -12956.775444  164631   \n",
       "4        80.923498  -516.12               1116 -10693.062762  136297   \n",
       "\n",
       "      pprice_sum  \n",
       "0  137061.007412  \n",
       "1   24197.856667  \n",
       "2   54641.557883  \n",
       "3   92976.482180  \n",
       "4   90310.623318  "
      ]
     },
     "execution_count": 408,
     "metadata": {},
     "output_type": "execute_result"
    }
   ],
   "source": [
    "train.head()"
   ]
  },
  {
   "cell_type": "markdown",
   "id": "78e8041c",
   "metadata": {},
   "source": [
    "# Exploratory Data Analysis"
   ]
  },
  {
   "cell_type": "code",
   "execution_count": 409,
   "id": "c3540cf7",
   "metadata": {},
   "outputs": [],
   "source": [
    "coupon_uses ={}\n",
    "\n",
    "for cp in train.coupon_id.unique():\n",
    "    # key = number of campaigns that use the coupon\n",
    "    key = len(train[train.coupon_id==cp].campaign_id.unique())\n",
    "    #print(key,train[train.coupon_id==cp].campaign_id.unique())\n",
    "    if key in coupon_uses.keys():\n",
    "        #collect coupon ids that were used key times\n",
    "        coupon_uses[key].append(cp)\n",
    "    else:\n",
    "        coupon_uses[key] = [cp]\n",
    "        "
   ]
  },
  {
   "cell_type": "code",
   "execution_count": 410,
   "id": "2c877ac2",
   "metadata": {},
   "outputs": [
    {
     "name": "stdout",
     "output_type": "stream",
     "text": [
      "5\n"
     ]
    },
    {
     "data": {
      "image/png": "[encoded data removed]",
      "text/plain": [
       "<Figure size 432x288 with 1 Axes>"
      ]
     },
     "metadata": {
      "needs_background": "light"
     },
     "output_type": "display_data"
    }
   ],
   "source": [
    "coupon_freq ={}\n",
    "total_no_unique_coupons = len(train.coupon_id.unique())\n",
    "#coupon_freq \n",
    "#keys: the number of uses of coupons\n",
    "#values:number of coupons \n",
    "for key in coupon_uses.keys():\n",
    "    coupon_freq[key]= len(coupon_uses[key])/total_no_unique_coupons*100\n",
    " \n",
    "\n",
    "print(len(coupon_freq))\n",
    "plt.bar(coupon_freq.keys(),coupon_freq.values())\n",
    "\n",
    "# Text on the top of each barplot\n",
    "label = [len(x) for x in coupon_uses.values()]\n",
    "x_loc = np.array([x for x in coupon_freq.keys()])-0.2\n",
    "y_loc = np.array([x for x in coupon_freq.values()]) + 0.1\n",
    "for i in range(5):\n",
    "    plt.text(x = x_loc[i] , y = y_loc[i], s = label[i], size = 10)\n",
    "plt.title('The number of campagians that each coupon was used'.title())\n",
    "plt.ylabel('% of total coupons(coupon counts on each bar)'.title())\n",
    "plt.xlabel('number of campaigns'.title())\n",
    "plt.show()"
   ]
  },
  {
   "cell_type": "markdown",
   "id": "7300e2e1",
   "metadata": {},
   "source": [
    "# Model Building"
   ]
  },
  {
   "cell_type": "code",
   "execution_count": 412,
   "id": "04187fcc",
   "metadata": {},
   "outputs": [],
   "source": [
    "test_id = test['id']\n",
    "target = train['redemption_status']\n",
    "train.drop(['id','campaign_id','start_date','end_date', 'redemption_status'], axis=1, inplace=True)\n",
    "test.drop(['id','campaign_id','start_date','end_date'], axis=1, inplace=True)"
   ]
  },
  {
   "cell_type": "code",
   "execution_count": 413,
   "id": "548ad016",
   "metadata": {},
   "outputs": [],
   "source": [
    "x = pd.DataFrame(train)\n",
    "y = target\n",
    "col_names = ['cd_sum','coupon_discount_x', 'coupon_used_x', 'item_counts', 'no_of_customers',\n",
    "       'od_sum', 'other_discount_x', 'price_sum', 'qu_sum', 'quantity_x',\n",
    "       'selling_price_x', 't_counts', 'total_discount_mean',\n",
    "       'total_discount_sum', 'campaign_type', 'campaign_duration',\n",
    "        'family_size', 'no_of_children',\n",
    "       'income_bracket', 'coupon_discount_y', 'coupon_used_y',\n",
    "       'no_of_items', 'other_discount_y', 'quantity_y',\n",
    "       'selling_price_y', 'cdd_sum', 'customer_id_count', 'odd_sum', 'qa_sum',\n",
    "       'pprice_sum']\n",
    "features = x[col_names]\n",
    "scaler = StandardScaler().fit(features.values)\n",
    "features = scaler.transform(features.values)\n",
    "x[col_names] = features\n",
    "x = np.array(x)"
   ]
  },
  {
   "cell_type": "code",
   "execution_count": 414,
   "id": "ad2ce089",
   "metadata": {},
   "outputs": [
    {
     "data": {
      "text/plain": [
       "0        0\n",
       "1        0\n",
       "2        0\n",
       "3        0\n",
       "4        0\n",
       "        ..\n",
       "54853    0\n",
       "54854    0\n",
       "54855    0\n",
       "54856    0\n",
       "54857    0\n",
       "Name: redemption_status, Length: 54858, dtype: int64"
      ]
     },
     "execution_count": 414,
     "metadata": {},
     "output_type": "execute_result"
    }
   ],
   "source": [
    "target"
   ]
  },
  {
   "cell_type": "code",
   "execution_count": 415,
   "id": "c6cf90ae",
   "metadata": {},
   "outputs": [
    {
     "name": "stdout",
     "output_type": "stream",
     "text": [
      "[[ 7.25000000e+02  4.50000000e+01  7.82000000e+02 ... -9.42753029e-01\n",
      "   2.42055255e-02  4.71765759e-01]\n",
      " [ 2.65000000e+02  3.34000000e+02  4.34600000e+03 ...  1.05715770e+00\n",
      "  -5.82960120e-01 -1.17954371e+00]\n",
      " [ 2.81000000e+02  4.08000000e+02  4.41200000e+03 ...  4.76693401e-01\n",
      "  -5.59558835e-01 -7.34119568e-01]\n",
      " ...\n",
      " [ 2.77000000e+02  1.03000000e+02  4.40900000e+03 ... -4.82269085e-01\n",
      "   3.48968632e+00  1.20736929e+00]\n",
      " [ 9.16000000e+02  1.84000000e+02  1.13400000e+03 ...  8.98940777e-01\n",
      "   1.94735629e-01 -7.46216039e-01]\n",
      " [ 7.14000000e+02  1.33900000e+03  7.71000000e+02 ...  2.96634078e-01\n",
      "   6.99234895e-01 -2.59091938e-01]]\n"
     ]
    }
   ],
   "source": [
    "print(x)"
   ]
  },
  {
   "cell_type": "code",
   "execution_count": 416,
   "id": "1947b2c6",
   "metadata": {},
   "outputs": [],
   "source": [
    "x_train,x_test,y_train,y_test = train_test_split(x,y,test_size=0.3)"
   ]
  },
  {
   "cell_type": "code",
   "execution_count": 417,
   "id": "3715e56b",
   "metadata": {},
   "outputs": [
    {
     "data": {
      "text/plain": [
       "((38400, 41), (38400,), (16458, 41), (16458,))"
      ]
     },
     "execution_count": 417,
     "metadata": {},
     "output_type": "execute_result"
    }
   ],
   "source": [
    "x_train.shape,y_train.shape,x_test.shape,y_test.shape"
   ]
  },
  {
   "cell_type": "markdown",
   "id": "8615ba70",
   "metadata": {},
   "source": [
    "## 1. Logistic Regression "
   ]
  },
  {
   "cell_type": "code",
   "execution_count": 453,
   "id": "20d44ac4",
   "metadata": {},
   "outputs": [
    {
     "name": "stdout",
     "output_type": "stream",
     "text": [
      "41\n"
     ]
    }
   ],
   "source": [
    "LR = LogisticRegression()\n",
    "LR.fit(x_train,y_train)\n",
    "y_pred_LR = LR.predict(x_test)\n",
    "print(len(x_test[0]))\n",
    "#print(classification_report(y_test,y_pred_LR))"
   ]
  },
  {
   "cell_type": "code",
   "execution_count": 419,
   "id": "7e399b6d",
   "metadata": {},
   "outputs": [],
   "source": [
    "roc_auc_score(y_test,y_pred_LR)\n",
    "Model = ['Logistic Regression']\n",
    "ROC_AUC_Accuracy = [roc_auc_score(y_test,y_pred_LR)]\n",
    "\n",
    "#print(ROC_AUC_Accuracy)"
   ]
  },
  {
   "cell_type": "code",
   "execution_count": 420,
   "id": "baa38a06",
   "metadata": {},
   "outputs": [
    {
     "name": "stdout",
     "output_type": "stream",
     "text": [
      "Confusion Matrix :\n",
      "[[16304     8]\n",
      " [  142     4]]\n",
      "Accuracy Score : 0.990885891359825\n",
      "Report : \n",
      "              precision    recall  f1-score   support\n",
      "\n",
      "           0       0.99      1.00      1.00     16312\n",
      "           1       0.33      0.03      0.05       146\n",
      "\n",
      "    accuracy                           0.99     16458\n",
      "   macro avg       0.66      0.51      0.52     16458\n",
      "weighted avg       0.99      0.99      0.99     16458\n",
      "\n"
     ]
    }
   ],
   "source": [
    "\n",
    "results=confusion_matrix(y_test,y_pred_LR)\n",
    "print ('Confusion Matrix :')\n",
    "print(results) \n",
    "print ('Accuracy Score :',accuracy_score(y_test,y_pred_LR) )\n",
    "print ('Report : ')\n",
    "print (classification_report(y_test,y_pred_LR) )"
   ]
  },
  {
   "cell_type": "markdown",
   "id": "078df431",
   "metadata": {},
   "source": [
    "Get predicted probabilites"
   ]
  },
  {
   "cell_type": "code",
   "execution_count": 421,
   "id": "9c9378f5",
   "metadata": {},
   "outputs": [],
   "source": [
    "target_probailities_log = LR.predict_proba(x_test)[:,1]"
   ]
  },
  {
   "cell_type": "code",
   "execution_count": 422,
   "id": "f4345e16",
   "metadata": {},
   "outputs": [],
   "source": [
    "#Create true and false positive rates\n",
    "log_false_positive_rate,log_true_positive_rate,log_threshold = roc_curve(y_test,target_probailities_log)"
   ]
  },
  {
   "cell_type": "markdown",
   "id": "2b53873f",
   "metadata": {},
   "source": [
    "Plotting the ROC curve"
   ]
  },
  {
   "cell_type": "code",
   "execution_count": 423,
   "id": "d7a36736",
   "metadata": {},
   "outputs": [
    {
     "data": {
      "image/png": "[encoded data removed]",
      "text/plain": [
       "<Figure size 720x432 with 1 Axes>"
      ]
     },
     "metadata": {},
     "output_type": "display_data"
    }
   ],
   "source": [
    "sns.set_style('whitegrid')\n",
    "plt.figure(figsize=(10,6))\n",
    "plt.title('Reciver Operating Characterstic Curve')\n",
    "plt.plot(log_false_positive_rate,log_true_positive_rate)\n",
    "plt.plot([0,1],ls='--')\n",
    "plt.plot([0,0],[1,0],c='.5')\n",
    "plt.plot([1,1],c='.5')\n",
    "plt.ylabel('True positive rate')\n",
    "plt.xlabel('False positive rate')\n",
    "plt.show()"
   ]
  },
  {
   "cell_type": "markdown",
   "id": "26dda0d5",
   "metadata": {},
   "source": [
    "## Decision Tree "
   ]
  },
  {
   "cell_type": "code",
   "execution_count": 424,
   "id": "88310ed6",
   "metadata": {},
   "outputs": [
    {
     "data": {
      "text/plain": [
       "RandomizedSearchCV(cv=3, estimator=DecisionTreeClassifier(), n_jobs=-1,\n",
       "                   param_distributions={'criterion': ['gini', 'entropy'],\n",
       "                                        'max_depth': range(1, 10),\n",
       "                                        'max_features': ['auto', 'log2'],\n",
       "                                        'max_leaf_nodes': range(2, 10),\n",
       "                                        'splitter': ['best', 'random']},\n",
       "                   scoring='recall')"
      ]
     },
     "execution_count": 424,
     "metadata": {},
     "output_type": "execute_result"
    }
   ],
   "source": [
    "params = {\n",
    "    \n",
    "    'criterion':['gini','entropy'],\n",
    "    'splitter':['best','random'],\n",
    "    'max_depth':range(1,10),\n",
    "    'max_leaf_nodes':range(2,10,1),\n",
    "    'max_features':['auto','log2']\n",
    "    \n",
    "}\n",
    "\n",
    "dt = DecisionTreeClassifier()\n",
    "\n",
    "rs = RandomizedSearchCV(estimator=dt,n_jobs=-1,cv=3,param_distributions=params,scoring='recall')\n",
    "rs.fit(x,y)"
   ]
  },
  {
   "cell_type": "code",
   "execution_count": 425,
   "id": "e71b277c",
   "metadata": {},
   "outputs": [
    {
     "name": "stdout",
     "output_type": "stream",
     "text": [
      "0.5\n"
     ]
    }
   ],
   "source": [
    "dt = DecisionTreeClassifier(**rs.best_params_)\n",
    "dt.fit(x_train,y_train)\n",
    "y_pred_dt = dt.predict(x_test)\n",
    "print(roc_auc_score(y_test,y_pred_dt))\n",
    "Model.append('Decision Tree')\n",
    "ROC_AUC_Accuracy.append(roc_auc_score(y_test,y_pred_dt))"
   ]
  },
  {
   "cell_type": "code",
   "execution_count": 426,
   "id": "ef0d580c",
   "metadata": {},
   "outputs": [
    {
     "name": "stdout",
     "output_type": "stream",
     "text": [
      "              precision    recall  f1-score   support\n",
      "\n",
      "           0       0.99      1.00      1.00     16312\n",
      "           1       0.00      0.00      0.00       146\n",
      "\n",
      "    accuracy                           0.99     16458\n",
      "   macro avg       0.50      0.50      0.50     16458\n",
      "weighted avg       0.98      0.99      0.99     16458\n",
      "\n"
     ]
    }
   ],
   "source": [
    "print(classification_report(y_test,y_pred_dt))"
   ]
  },
  {
   "cell_type": "code",
   "execution_count": 427,
   "id": "751bf8de",
   "metadata": {},
   "outputs": [
    {
     "data": {
      "text/plain": [
       "(['Logistic Regression', 'Decision Tree'], [0.5134534118927491, 0.5])"
      ]
     },
     "execution_count": 427,
     "metadata": {},
     "output_type": "execute_result"
    }
   ],
   "source": [
    "Model,ROC_AUC_Accuracy"
   ]
  },
  {
   "cell_type": "code",
   "execution_count": 428,
   "id": "332552d1",
   "metadata": {},
   "outputs": [
    {
     "name": "stdout",
     "output_type": "stream",
     "text": [
      "Confusion Matrix :\n",
      "[[16312     0]\n",
      " [  146     0]]\n",
      "Accuracy Score : 0.9911289342568963\n",
      "Report : \n",
      "              precision    recall  f1-score   support\n",
      "\n",
      "           0       0.99      1.00      1.00     16312\n",
      "           1       0.00      0.00      0.00       146\n",
      "\n",
      "    accuracy                           0.99     16458\n",
      "   macro avg       0.50      0.50      0.50     16458\n",
      "weighted avg       0.98      0.99      0.99     16458\n",
      "\n"
     ]
    }
   ],
   "source": [
    "results=confusion_matrix(y_test,y_pred_dt)\n",
    "print ('Confusion Matrix :')\n",
    "print(results) \n",
    "print ('Accuracy Score :',accuracy_score(y_test,y_pred_dt) )\n",
    "print ('Report : ')\n",
    "print (classification_report(y_test,y_pred_dt) )"
   ]
  },
  {
   "cell_type": "code",
   "execution_count": 429,
   "id": "081b5bc7",
   "metadata": {},
   "outputs": [],
   "source": [
    "#Get predicted probabilites\n",
    "target_probailities_log = dt.predict_proba(x_test)[:,1]"
   ]
  },
  {
   "cell_type": "code",
   "execution_count": 430,
   "id": "ff138ff1",
   "metadata": {},
   "outputs": [],
   "source": [
    "#Create true and false positive rates\n",
    "log_false_positive_rate,log_true_positive_rate,log_threshold = roc_curve(y_test,target_probailities_log)"
   ]
  },
  {
   "cell_type": "markdown",
   "id": "78732423",
   "metadata": {},
   "source": [
    "Plotting the ROC curve"
   ]
  },
  {
   "cell_type": "code",
   "execution_count": 431,
   "id": "c4c7af18",
   "metadata": {},
   "outputs": [
    {
     "data": {
      "image/png": "[encoded data removed]",
      "text/plain": [
       "<Figure size 720x432 with 1 Axes>"
      ]
     },
     "metadata": {},
     "output_type": "display_data"
    }
   ],
   "source": [
    "sns.set_style('whitegrid')\n",
    "plt.figure(figsize=(10,6))\n",
    "plt.title('Reciver Operating Characterstic Curve')\n",
    "plt.plot(log_false_positive_rate,log_true_positive_rate)\n",
    "plt.plot([0,1],ls='--')\n",
    "plt.plot([0,0],[1,0],c='.5')\n",
    "plt.plot([1,1],c='.5')\n",
    "plt.ylabel('True positive rate')\n",
    "plt.xlabel('False positive rate')\n",
    "plt.show()"
   ]
  },
  {
   "cell_type": "markdown",
   "id": "4c314bbc",
   "metadata": {},
   "source": [
    "## Random Forest"
   ]
  },
  {
   "cell_type": "code",
   "execution_count": 432,
   "id": "10921ed7",
   "metadata": {},
   "outputs": [
    {
     "data": {
      "text/plain": [
       "RandomizedSearchCV(cv=5, estimator=RandomForestClassifier(), n_jobs=-1,\n",
       "                   param_distributions={'criterion': ['gini', 'entropy'],\n",
       "                                        'max_depth': range(2, 10),\n",
       "                                        'max_features': ['auto', 'log2'],\n",
       "                                        'max_leaf_nodes': range(2, 10),\n",
       "                                        'n_estimators': range(10, 100, 10)},\n",
       "                   scoring='recall')"
      ]
     },
     "execution_count": 432,
     "metadata": {},
     "output_type": "execute_result"
    }
   ],
   "source": [
    "params = {\n",
    "    \n",
    "    'n_estimators':range(10,100,10),\n",
    "    'criterion':['gini','entropy'],\n",
    "    'max_depth':range(2,10,1),\n",
    "    'max_leaf_nodes':range(2,10,1),\n",
    "    'max_features':['auto','log2']\n",
    "    \n",
    "}\n",
    "rf = RandomForestClassifier()\n",
    "\n",
    "rs = RandomizedSearchCV(estimator=rf,param_distributions=params,cv=5,scoring='recall',n_jobs=-1)\n",
    "rs.fit(x,y)"
   ]
  },
  {
   "cell_type": "code",
   "execution_count": 433,
   "id": "75e9c3de",
   "metadata": {},
   "outputs": [
    {
     "name": "stdout",
     "output_type": "stream",
     "text": [
      "0.5\n"
     ]
    }
   ],
   "source": [
    "rf = RandomForestClassifier(**rs.best_params_)\n",
    "rf.fit(x_train,y_train)\n",
    "y_pred_rf = rf.predict(x_test)\n",
    "print(roc_auc_score(y_test,y_pred_rf))\n",
    "Model.append('Random Forest')\n",
    "ROC_AUC_Accuracy.append(roc_auc_score(y_test,y_pred_rf))"
   ]
  },
  {
   "cell_type": "code",
   "execution_count": 434,
   "id": "800595d7",
   "metadata": {},
   "outputs": [
    {
     "name": "stdout",
     "output_type": "stream",
     "text": [
      "              precision    recall  f1-score   support\n",
      "\n",
      "           0       0.99      1.00      1.00     16312\n",
      "           1       0.00      0.00      0.00       146\n",
      "\n",
      "    accuracy                           0.99     16458\n",
      "   macro avg       0.50      0.50      0.50     16458\n",
      "weighted avg       0.98      0.99      0.99     16458\n",
      "\n"
     ]
    }
   ],
   "source": [
    "print(classification_report(y_test,y_pred_rf))"
   ]
  },
  {
   "cell_type": "code",
   "execution_count": 435,
   "id": "0160c54f",
   "metadata": {},
   "outputs": [
    {
     "name": "stdout",
     "output_type": "stream",
     "text": [
      "Confusion Matrix :\n",
      "[[16312     0]\n",
      " [  146     0]]\n",
      "Accuracy Score : 0.9911289342568963\n",
      "Report : \n",
      "              precision    recall  f1-score   support\n",
      "\n",
      "           0       0.99      1.00      1.00     16312\n",
      "           1       0.00      0.00      0.00       146\n",
      "\n",
      "    accuracy                           0.99     16458\n",
      "   macro avg       0.50      0.50      0.50     16458\n",
      "weighted avg       0.98      0.99      0.99     16458\n",
      "\n"
     ]
    }
   ],
   "source": [
    "results=confusion_matrix(y_test,y_pred_rf)\n",
    "print ('Confusion Matrix :')\n",
    "print(results) \n",
    "print ('Accuracy Score :',accuracy_score(y_test,y_pred_rf) )\n",
    "print ('Report : ')\n",
    "print (classification_report(y_test,y_pred_rf) )"
   ]
  },
  {
   "cell_type": "code",
   "execution_count": 436,
   "id": "1b767953",
   "metadata": {},
   "outputs": [],
   "source": [
    "#Get predicted probabilites\n",
    "target_probailities_log = rf.predict_proba(x_test)[:,1]"
   ]
  },
  {
   "cell_type": "code",
   "execution_count": 437,
   "id": "b0aa693e",
   "metadata": {},
   "outputs": [],
   "source": [
    "#Create true and false positive rates\n",
    "log_false_positive_rate,log_true_positive_rate,log_threshold = roc_curve(y_test,target_probailities_log)"
   ]
  },
  {
   "cell_type": "markdown",
   "id": "009285a4",
   "metadata": {},
   "source": [
    "Plotting the ROC curve"
   ]
  },
  {
   "cell_type": "code",
   "execution_count": 438,
   "id": "cd2938d3",
   "metadata": {},
   "outputs": [
    {
     "data": {
      "image/png": "[encoded data removed]",
      "text/plain": [
       "<Figure size 720x432 with 1 Axes>"
      ]
     },
     "metadata": {},
     "output_type": "display_data"
    }
   ],
   "source": [
    "sns.set_style('whitegrid')\n",
    "plt.figure(figsize=(10,6))\n",
    "plt.title('Reciver Operating Characterstic Curve')\n",
    "plt.plot(log_false_positive_rate,log_true_positive_rate)\n",
    "plt.plot([0,1],ls='--')\n",
    "plt.plot([0,0],[1,0],c='.5')\n",
    "plt.plot([1,1],c='.5')\n",
    "plt.ylabel('True positive rate')\n",
    "plt.xlabel('False positive rate')\n",
    "plt.show()"
   ]
  },
  {
   "cell_type": "code",
   "execution_count": 439,
   "id": "50cab19c",
   "metadata": {},
   "outputs": [
    {
     "name": "stdout",
     "output_type": "stream",
     "text": [
      "Model Accuracy\n",
      "  \n",
      "Logistic Regression --- 0.5134534118927491\n",
      "Decision Tree --- 0.5\n",
      "Random Forest --- 0.5\n"
     ]
    }
   ],
   "source": [
    "print('Model', 'Accuracy')\n",
    "\n",
    "print('  ')\n",
    "\n",
    "for i in range(len(Model)):\n",
    "    \n",
    "    print(Model[i],'---',ROC_AUC_Accuracy[i] )"
   ]
  },
  {
   "cell_type": "markdown",
   "id": "c9b3882f",
   "metadata": {},
   "source": [
    "## Saving the model to a pickle file "
   ]
  },
  {
   "cell_type": "code",
   "execution_count": 443,
   "id": "2c699826",
   "metadata": {},
   "outputs": [],
   "source": [
    "import pickle"
   ]
  },
  {
   "cell_type": "code",
   "execution_count": 479,
   "id": "7b960424",
   "metadata": {},
   "outputs": [],
   "source": [
    "with open('model_pickle_logestic_reg','wb') as file:\n",
    "    pickle.dump(LR,file)"
   ]
  },
  {
   "cell_type": "code",
   "execution_count": 480,
   "id": "7ddfe853",
   "metadata": {},
   "outputs": [],
   "source": [
    "with open('model_pickle_logestic_reg','rb') as file:\n",
    "    lr_file = pickle.load(file)"
   ]
  },
  {
   "cell_type": "code",
   "execution_count": 481,
   "id": "60329590",
   "metadata": {},
   "outputs": [
    {
     "data": {
      "text/plain": [
       "array([[ 2.19012532e-03, -2.57507214e-04, -8.27172101e-04,\n",
       "        -1.30902769e-01, -4.35245278e-01, -8.15736875e-02,\n",
       "        -2.88228786e-02,  6.93413713e-02,  4.27092019e-02,\n",
       "         8.67483159e-02, -1.43221259e-02, -6.01402283e-02,\n",
       "         3.33696612e-02,  1.29225236e-02, -2.62523902e-02,\n",
       "         5.13351330e-02,  1.64002092e-02, -6.34398745e-02,\n",
       "        -1.65543788e-02, -1.20993362e-01,  2.54017343e-02,\n",
       "        -2.79498395e-01,  2.04060473e-02, -6.00093068e-03,\n",
       "        -1.09811229e-01, -6.56971744e-02,  3.90875275e-02,\n",
       "        -2.07380314e-01,  1.97182258e-01, -1.74416136e-02,\n",
       "        -1.25983438e-01, -2.40870129e-02, -2.35004065e-01,\n",
       "        -7.34973340e-02,  6.87359558e-02, -1.94853404e-03,\n",
       "        -1.41428655e-01,  1.62220839e-02, -6.67045336e-02,\n",
       "         4.57337623e-02,  3.47550038e-02]])"
      ]
     },
     "execution_count": 481,
     "metadata": {},
     "output_type": "execute_result"
    }
   ],
   "source": [
    "lr_file.coef_"
   ]
  },
  {
   "cell_type": "code",
   "execution_count": 465,
   "id": "a1535ed2",
   "metadata": {},
   "outputs": [
    {
     "data": {
      "text/plain": [
       "array([-0.11619361])"
      ]
     },
     "execution_count": 465,
     "metadata": {},
     "output_type": "execute_result"
    }
   ],
   "source": [
    "lr_file.intercept_"
   ]
  },
  {
   "cell_type": "code",
   "execution_count": 488,
   "id": "76327b3b",
   "metadata": {},
   "outputs": [],
   "source": [
    "with open('model_pickle_random_rf','wb') as file:\n",
    "    pickle.dump(rf,file)"
   ]
  },
  {
   "cell_type": "code",
   "execution_count": 489,
   "id": "94037e42",
   "metadata": {},
   "outputs": [],
   "source": [
    "with open('model_pickle_random_rf','rb') as file:\n",
    "    rf_file = pickle.load(file)"
   ]
  }
 ],
 "metadata": {
  "kernelspec": {
   "display_name": "Python 3",
   "language": "python",
   "name": "python3"
  },
  "language_info": {
   "codemirror_mode": {
    "name": "ipython",
    "version": 3
   },
   "file_extension": ".py",
   "mimetype": "text/x-python",
   "name": "python",
   "nbconvert_exporter": "python",
   "pygments_lexer": "ipython3",
   "version": "3.8.8"
  }
 },
 "nbformat": 4,
 "nbformat_minor": 5
}
